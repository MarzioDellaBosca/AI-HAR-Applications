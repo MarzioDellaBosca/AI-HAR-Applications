{
 "cells": [
  {
   "cell_type": "code",
   "execution_count": 1,
   "id": "94ee009a",
   "metadata": {},
   "outputs": [
    {
     "name": "stdout",
     "output_type": "stream",
     "text": [
      "PyTorch version: 2.5.1+cu121\n",
      "CUDA available: True\n",
      "Device: cuda\n"
     ]
    }
   ],
   "source": [
    "import tsfel\n",
    "from tqdm import tqdm\n",
    "import torch\n",
    "import warnings\n",
    "warnings.filterwarnings(\"ignore\")\n",
    "import numpy as np\n",
    "import matplotlib.pyplot as plt\n",
    "import pandas as pd\n",
    "import seaborn as sns\n",
    "import time\n",
    "from tslearn.utils import to_time_series_dataset, ts_zeros, to_time_series\n",
    "from tslearn.barycenters import softdtw_barycenter\n",
    "from sklearn.metrics import accuracy_score, confusion_matrix\n",
    "from sklearn.preprocessing import StandardScaler\n",
    "from tslearn.metrics import dtw\n",
    "import os\n",
    "import torch.nn as nn\n",
    "import torch.optim as optim\n",
    "from sklearn.model_selection import train_test_split\n",
    "from aeon.transformations.collection.feature_based import Catch22\n",
    "from sklearn.experimental import enable_hist_gradient_boosting\n",
    "from sklearn.ensemble import HistGradientBoostingClassifier\n",
    "from sklearn.model_selection import GridSearchCV\n",
    "\n",
    "print(\"PyTorch version:\", torch.__version__)\n",
    "print(\"CUDA available:\", torch.cuda.is_available())\n",
    "device = torch.device(\"cuda\" if torch.cuda.is_available() else \"cpu\")\n",
    "print(\"Device:\", device)"
   ]
  },
  {
   "cell_type": "code",
   "execution_count": 2,
   "id": "207581d6",
   "metadata": {},
   "outputs": [],
   "source": [
    "# \"Motion Sense\" Dataset loading\n",
    "motionP = pd.DataFrame(np.load('MotionSense.npy'))\n",
    "motion = motionP.copy()\n",
    "\n",
    "motion.columns = ['x_acc', 'y_acc', 'z_acc', 'x_gyro', 'y_gyro', 'z_gyro', 'activity', 'subject', \n",
    "                                                        'weight', 'height', 'age', 'gender', 'trial']\n",
    "label_motion = motion['activity']\n",
    "motion = motion.drop('weight', axis=1)\n",
    "motion = motion.drop('height', axis=1)\n",
    "motion = motion.drop('age', axis=1)\n",
    "motion = motion.drop('gender', axis=1)\n",
    "motion = motion.drop('subject', axis=1)\n",
    "motion = motion.drop('trial', axis=1)\n",
    "motion = motion.drop('activity', axis=1)\n",
    "\n",
    "motion = StandardScaler().fit_transform(motion)\n",
    "motion = pd.DataFrame(motion)\n",
    "\n",
    "motion['activity'] = label_motion"
   ]
  },
  {
   "cell_type": "code",
   "execution_count": null,
   "id": "edb5f4d7",
   "metadata": {},
   "outputs": [],
   "source": []
  }
 ],
 "metadata": {
  "kernelspec": {
   "display_name": "env310",
   "language": "python",
   "name": "python3"
  },
  "language_info": {
   "codemirror_mode": {
    "name": "ipython",
    "version": 3
   },
   "file_extension": ".py",
   "mimetype": "text/x-python",
   "name": "python",
   "nbconvert_exporter": "python",
   "pygments_lexer": "ipython3",
   "version": "3.10.0"
  }
 },
 "nbformat": 4,
 "nbformat_minor": 5
}
