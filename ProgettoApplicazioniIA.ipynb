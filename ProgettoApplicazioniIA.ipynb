{
 "cells": [
  {
   "cell_type": "markdown",
   "id": "7a89332d",
   "metadata": {},
   "source": [
    "#### Progetto di corso per APPLICAZIONI DELL'INTELLIGENZA ARTIFICIALE (AA 2024-2025)\n",
    "#### Stud: Marzio Della Bosca\n",
    "\n",
    "\n",
    "Questo notebook si occupa di addestrate e valutare diverse architetture di reti neurali sui dati processati e salvati nei Notebook precedenti."
   ]
  },
  {
   "cell_type": "code",
   "execution_count": null,
   "id": "93f32f2d",
   "metadata": {},
   "outputs": [],
   "source": [
    "import warnings\n",
    "warnings.filterwarnings(\"ignore\")\n",
    "from tqdm import tqdm\n",
    "import time\n",
    "import os\n",
    "\n",
    "import matplotlib.pyplot as plt\n",
    "import seaborn as sns\n",
    "\n",
    "import numpy as np\n",
    "import pandas as pd\n",
    "\n",
    "from sklearn.model_selection import GridSearchCV\n",
    "from sklearn.model_selection import train_test_split\n",
    "from sklearn.ensemble import HistGradientBoostingClassifier\n",
    "from sklearn.experimental import enable_hist_gradient_boosting\n",
    "from sklearn.metrics import accuracy_score, confusion_matrix\n",
    "\n",
    "import torch\n",
    "import torch.nn as nn\n",
    "import torch.optim as optim"
   ]
  }
 ],
 "metadata": {
  "language_info": {
   "name": "python"
  }
 },
 "nbformat": 4,
 "nbformat_minor": 5
}
