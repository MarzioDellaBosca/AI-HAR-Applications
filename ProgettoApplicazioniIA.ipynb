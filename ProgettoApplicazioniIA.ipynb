{
 "cells": [
  {
   "cell_type": "markdown",
   "id": "7a89332d",
   "metadata": {},
   "source": [
    "#### Progetto di corso per APPLICAZIONI DELL'INTELLIGENZA ARTIFICIALE (AA 2024-2025)\n",
    "#### Stud: Marzio Della Bosca\n",
    "\n",
    "\n",
    "Questo notebook si occupa di addestrate e valutare diverse architetture di reti neurali sui dati processati e salvati nei Notebook precedenti."
   ]
  },
  {
   "cell_type": "code",
   "execution_count": 36,
   "id": "93f32f2d",
   "metadata": {},
   "outputs": [],
   "source": [
    "import warnings\n",
    "warnings.filterwarnings(\"ignore\")\n",
    "from tqdm import tqdm\n",
    "import time\n",
    "import os\n",
    "\n",
    "import matplotlib.pyplot as plt\n",
    "import seaborn as sns\n",
    "\n",
    "import numpy as np\n",
    "import pandas as pd\n",
    "from collections import Counter\n",
    "\n",
    "from sklearn.model_selection import GridSearchCV\n",
    "from sklearn.model_selection import train_test_split\n",
    "from sklearn.ensemble import HistGradientBoostingClassifier\n",
    "from sklearn.experimental import enable_hist_gradient_boosting\n",
    "from sklearn.metrics import accuracy_score, confusion_matrix\n",
    "\n",
    "import torch\n",
    "import torch.nn as nn\n",
    "import torch.optim as optim"
   ]
  },
  {
   "cell_type": "code",
   "execution_count": 2,
   "id": "b204619c",
   "metadata": {},
   "outputs": [
    {
     "name": "stdout",
     "output_type": "stream",
     "text": [
      "PyTorch version: 2.5.1+cu121\n",
      "CUDA available: True\n",
      "CUDA device name: NVIDIA GeForce RTX 3050\n",
      "Device: cuda\n"
     ]
    }
   ],
   "source": [
    "print(\"PyTorch version:\", torch.__version__)\n",
    "print(\"CUDA available:\", torch.cuda.is_available())\n",
    "print(\"CUDA device name:\", torch.cuda.get_device_name(0) if torch.cuda.is_available() else \"No GPU found\")\n",
    "\n",
    "device = torch.device(\"cuda\" if torch.cuda.is_available() else \"cpu\")\n",
    "print(\"Device:\", device)"
   ]
  },
  {
   "cell_type": "code",
   "execution_count": 106,
   "id": "5117e183",
   "metadata": {},
   "outputs": [],
   "source": [
    "class SimpleMLP(nn.Module):\n",
    "    def __init__(self, input_dim, num_classes):\n",
    "        super(SimpleMLP, self).__init__()\n",
    "        self.fc1 = nn.Linear(input_dim, 256)\n",
    "        self.relu = nn.ReLU()\n",
    "        self.fc2 = nn.Linear(256, 64)\n",
    "        self.fc3 = nn.Linear(64, num_classes)\n",
    "    def forward(self, x):\n",
    "        x = self.relu(self.fc1(x))\n",
    "        x = self.relu(self.fc2(x))\n",
    "        x = self.fc3(x)\n",
    "        return x\n",
    "\n",
    "class SimpleCNN(nn.Module):\n",
    "    def __init__(self, input_channels, sequence_length, num_classes):\n",
    "        super(SimpleCNN, self).__init__()\n",
    "        self.conv1 = nn.Conv1d(input_channels, 32, kernel_size=3, stride=1, padding=1)\n",
    "        self.conv2 = nn.Conv1d(32, 64, kernel_size=3, stride=1, padding=1)\n",
    "        self.pool = nn.MaxPool1d(kernel_size=2, stride=2)\n",
    "        self.relu = nn.ReLU()  # Definito una volta nel costruttore\n",
    "        \n",
    "        # Calcola la dimensione dell'output dopo convoluzioni e pooling\n",
    "        self.flattened_size = 64 * (sequence_length // 2)  # Dopo un MaxPool1d con kernel_size=2\n",
    "        \n",
    "        self.fc1 = nn.Linear(self.flattened_size, 128)\n",
    "        self.fc2 = nn.Linear(128, num_classes)\n",
    "\n",
    "    def forward(self, x):\n",
    "        x = self.relu(self.conv1(x))\n",
    "        x = self.relu(self.conv2(x))\n",
    "        x = self.pool(x)\n",
    "        x = x.view(x.size(0), -1)  # Flatten per il livello fully connected\n",
    "        x = self.relu(self.fc1(x))\n",
    "        x = self.fc2(x)\n",
    "        return x\n",
    "\n",
    "def train_model(model, train_loader, val_loader, criterion, optimizer, n_epoche):\n",
    "    acc_vec = []\n",
    "    loss_vec = []\n",
    "\n",
    "    max_acc = -1\n",
    "    min_acc = -1\n",
    "\n",
    "    max_loss = -1\n",
    "    min_loss = -1\n",
    "\n",
    "    epoc_max_loss = -1\n",
    "    epoc_min_loss = -1\n",
    "\n",
    "    epoc_max_acc = -1\n",
    "    epoc_min_acc = -1\n",
    "    \n",
    "    startT = time.time()\n",
    "\n",
    "    for epoch in tqdm(range(n_epoche), desc=\"Training epochs..\"):\n",
    "        model.train()\n",
    "        running_loss = 0.0\n",
    "        for xb, yb in train_loader:\n",
    "            xb, yb = xb.to(device), yb.to(device)\n",
    "            optimizer.zero_grad()\n",
    "            outputs = model(xb)\n",
    "            loss = criterion(outputs, yb)\n",
    "            loss.backward()\n",
    "            optimizer.step()\n",
    "            running_loss += loss.item() * xb.size(0)\n",
    "            \n",
    "        epoch_loss = running_loss / len(train_loader.dataset)\n",
    "        loss_vec.append(epoch_loss)\n",
    "\n",
    "        # Valutazione\n",
    "        model.eval()\n",
    "        correct = 0\n",
    "        total = 0\n",
    "        with torch.no_grad():\n",
    "            for xb, yb in val_loader:\n",
    "                xb, yb = xb.to(device), yb.to(device) \n",
    "                outputs = model(xb)\n",
    "                _, predicted = torch.max(outputs, 1)\n",
    "                total += yb.size(0)\n",
    "                correct += (predicted == yb).sum().item()\n",
    "        acc = correct / total\n",
    "        acc_vec.append(acc)\n",
    "\n",
    "        if epoch == 0:\n",
    "            max_acc = acc\n",
    "            min_acc = acc\n",
    "            max_loss = epoch_loss\n",
    "            min_loss = epoch_loss\n",
    "            epoc_max_loss = 1\n",
    "            epoc_min_loss = 1\n",
    "            epoc_max_acc = 1\n",
    "            epoc_min_acc = 1\n",
    "        \n",
    "\n",
    "        if acc > max_acc:\n",
    "            max_acc = acc\n",
    "            epoc_max_acc = epoch + 1\n",
    "\n",
    "        if acc < min_acc:\n",
    "            min_acc = acc\n",
    "            epoc_min_acc = epoch + 1\n",
    "\n",
    "        if epoch_loss > max_loss:\n",
    "            max_loss = epoch_loss\n",
    "            epoc_max_loss = epoch + 1\n",
    "\n",
    "        if epoch_loss < min_loss:\n",
    "            min_loss = epoch_loss\n",
    "            epoc_min_loss = epoch + 1\n",
    "\n",
    "    print(f\"Tempo totale di addestramento: {time.time() - startT:.2f} secondi\")\n",
    "\n",
    "    all_preds = []\n",
    "    all_labels = []\n",
    "    timeStart = time.time()\n",
    "    with torch.no_grad():\n",
    "        for xb, yb in val_loader:\n",
    "            xb, yb = xb.to(device), yb.to(device)\n",
    "            outputs = model(xb)\n",
    "            _, predicted = torch.max(outputs, 1)\n",
    "            all_preds.extend(predicted.cpu().numpy())\n",
    "            all_labels.extend(yb.cpu().numpy())\n",
    "    print(f\"Tempo di valutazione (predizioni): {time.time() - timeStart:.2f} secondi\\n\")\n",
    "\n",
    "    print(f\"Accuratezza finale: {acc_vec[-1]:.4f}\")\n",
    "    print(f\"Accuratezza media: {np.mean(acc_vec):.4f}\")\n",
    "\n",
    "    print(f\"Accuratezza minima: {np.min(acc_vec):.4f}, epoca: {epoc_min_acc}\")\n",
    "    print(f\"Accuratezza massima: {np.max(acc_vec):.4f}, epoca: {epoc_max_acc}\")\n",
    "\n",
    "    print(f\"Loss finale: {loss_vec[-1]:.4f}, epoca: {epoc_max_loss}\")\n",
    "    print(f\"Loss media: {np.mean(loss_vec):.4f}\")\n",
    "\n",
    "    print(f\"Loss minima: {np.min(loss_vec):.4f}, epoca: {epoc_min_loss}\")\n",
    "    print(f\"Loss massima: {np.max(loss_vec):.4f}, epoca: {epoc_max_loss}\\n\")\n",
    "\n",
    "    return acc_vec, loss_vec\n",
    "\n",
    "def loaders_maker(data, y, batch_S, seed):\n",
    "\n",
    "    # Converte in tensori torch il modello da addestrare su dataset catch22\n",
    "    feature_t = torch.tensor(data, dtype=torch.float32)\n",
    "    y_t = torch.tensor(y, dtype=torch.long)\n",
    "\n",
    "    x_train, x_val, y_train, y_val = train_test_split(feature_t, y_t, test_size=0.2, random_state=seed)\n",
    "\n",
    "    # Dataset e DataLoader\n",
    "    train_dataset = torch.utils.data.TensorDataset(x_train, y_train)\n",
    "    val_dataset = torch.utils.data.TensorDataset(x_val, y_val)\n",
    "\n",
    "    train_loader = torch.utils.data.DataLoader(train_dataset, batch_size=batch_S, shuffle=True, pin_memory=True)\n",
    "    val_loader = torch.utils.data.DataLoader(val_dataset, batch_size=batch_S, shuffle=False, pin_memory=True)\n",
    "\n",
    "    return train_loader, val_loader\n",
    "\n",
    "def plot_results(acc_tsfel, acc_catch22, loss_tsfel, loss_catch22, n_epoche):\n",
    "    mean_acc_tsfel = np.mean(acc_tsfel, axis=0)\n",
    "    std_acc_tsfel = np.std(acc_tsfel, axis=0)\n",
    "    min_acc_tsfel = np.min(acc_tsfel)  \n",
    "    max_acc_tsfel = np.max(acc_tsfel) \n",
    "\n",
    "    mean_acc_catch22 = np.mean(acc_catch22, axis=0)\n",
    "    std_acc_catch22 = np.std(acc_catch22, axis=0)\n",
    "    min_acc_catch22 = np.min(acc_catch22)  \n",
    "    max_acc_catch22 = np.max(acc_catch22)  \n",
    "\n",
    "    mean_loss_tsfel = np.mean(loss_tsfel, axis=0)\n",
    "    std_loss_tsfel = np.std(loss_tsfel, axis=0)\n",
    "    min_loss_tsfel = np.min(loss_tsfel)  \n",
    "    max_loss_tsfel = np.max(loss_tsfel)  \n",
    "\n",
    "    mean_loss_catch22 = np.mean(loss_catch22, axis=0)\n",
    "    std_loss_catch22 = np.std(loss_catch22, axis=0)\n",
    "    min_loss_catch22 = np.min(loss_catch22)  \n",
    "    max_loss_catch22 = np.max(loss_catch22)  \n",
    "\n",
    "    plt.figure(figsize=(16, 8))\n",
    "    # TSFEL\n",
    "    plt.plot(mean_acc_tsfel, label=f\"TSFEL (Media: {mean_acc_tsfel[-1]:.4f}, Min: {min_acc_tsfel:.4f}, Max: {max_acc_tsfel:.4f}, Std: {std_acc_tsfel[-1]:.4f})\", color='blue')\n",
    "    plt.fill_between(range(len(mean_acc_tsfel)), \n",
    "                    mean_acc_tsfel - std_acc_tsfel, \n",
    "                    mean_acc_tsfel + std_acc_tsfel, \n",
    "                    color='blue', alpha=0.3)\n",
    "\n",
    "    # CATCH22\n",
    "    plt.plot(mean_acc_catch22, label=f\"CATCH22 (Media: {mean_acc_catch22[-1]:.4f}, Min: {min_acc_catch22:.4f}, Max: {max_acc_catch22:.4f}, Std: {std_acc_catch22[-1]:.4f})\", color='orange')\n",
    "    plt.fill_between(range(len(mean_acc_catch22)), \n",
    "                    mean_acc_catch22 - std_acc_catch22, \n",
    "                    mean_acc_catch22 + std_acc_catch22, \n",
    "                    color='orange', alpha=0.3)\n",
    "\n",
    "    plt.title('Accuratezza Media per Epoca con Intervalli di Confidenza - seed = 64, 256, 571')\n",
    "    plt.xticks(np.arange(0, n_epoche, step=10))\n",
    "    plt.xlabel('Epoche')\n",
    "    plt.ylabel('Accuratezza')\n",
    "    plt.legend()\n",
    "    plt.grid()\n",
    "    plt.show()\n",
    "\n",
    "    # Loss media con intervalli di confidenza\n",
    "    plt.figure(figsize=(16, 8))\n",
    "    mean_loss_tsfel = np.mean(loss_tsfel, axis=0)\n",
    "    std_loss_tsfel = np.std(loss_tsfel, axis=0)\n",
    "    mean_loss_catch22 = np.mean(loss_catch22, axis=0)\n",
    "    std_loss_catch22 = np.std(loss_catch22, axis=0)\n",
    "\n",
    "    # TSFEL\n",
    "    plt.plot(mean_loss_tsfel, label=f\"TSFEL (Media: {mean_loss_tsfel[-1]:.4f}, Min: {min_loss_tsfel:.4f}, Max: {max_loss_tsfel:.4f}, Std: {std_loss_tsfel[-1]:.4f})\", color='blue')\n",
    "    plt.fill_between(range(len(mean_loss_tsfel)), \n",
    "                    mean_loss_tsfel - std_loss_tsfel, \n",
    "                    mean_loss_tsfel + std_loss_tsfel, \n",
    "                    color='blue', alpha=0.3)\n",
    "\n",
    "    # CATCH22\n",
    "    plt.plot(mean_loss_catch22, label=f\"CATCH22 (Media: {mean_loss_catch22[-1]:.4f}, Min: {min_loss_catch22:.4f}, Max: {max_loss_catch22:.4f}, Std: {std_loss_catch22[-1]:.4f})\", color='orange')\n",
    "    plt.fill_between(range(len(mean_loss_catch22)), \n",
    "                    mean_loss_catch22 - std_loss_catch22, \n",
    "                    mean_loss_catch22 + std_loss_catch22, \n",
    "                    color='orange', alpha=0.3)\n",
    "\n",
    "\n",
    "    plt.title('Loss Media per Epoca con Intervalli di Confidenza - seed = 64, 256, 571')\n",
    "    plt.xticks(np.arange(0, n_epoche, step=10))\n",
    "    plt.xlabel('Epoche')\n",
    "    plt.ylabel('Loss')\n",
    "    plt.legend()\n",
    "    plt.grid()\n",
    "    plt.show()\n",
    "\n"
   ]
  },
  {
   "cell_type": "code",
   "execution_count": 70,
   "id": "0a430774",
   "metadata": {},
   "outputs": [
    {
     "name": "stdout",
     "output_type": "stream",
     "text": [
      "Shape catch22: (375400, 132)\n",
      "Shape tsfel: (375400, 270)\n",
      "Shape labels: (375400,)\n"
     ]
    }
   ],
   "source": [
    "catch22 = np.load('catch22_uni.npy')\n",
    "tsfel = np.load('tsfel_uni.npy')\n",
    "y = np.load('labels_uni.npy')\n",
    "\n",
    "print(f\"Shape catch22: {catch22.shape}\")\n",
    "print(f\"Shape tsfel: {tsfel.shape}\")\n",
    "print(f\"Shape labels: {y.shape}\")"
   ]
  },
  {
   "cell_type": "code",
   "execution_count": null,
   "id": "121ae19a",
   "metadata": {},
   "outputs": [],
   "source": [
    "print(np.isnan(catch22).any(), np.isinf(catch22).any())\n",
    "print(np.isnan(tsfel).any(), np.isinf(tsfel).any())\n",
    "\n",
    "# Trova gli indici dei valori NaN in catch22\n",
    "nan_indices_catch22 = np.where(np.isnan(catch22))\n",
    "print(\"Indici dei NaN in catch22:\", nan_indices_catch22)\n",
    "\n",
    "# Trova gli indici dei valori NaN in tsfel\n",
    "nan_indices_tsfel = np.where(np.isnan(tsfel))\n",
    "print(\"Indici dei NaN in tsfel:\", nan_indices_tsfel)"
   ]
  },
  {
   "cell_type": "code",
   "execution_count": null,
   "id": "aee19bb1",
   "metadata": {},
   "outputs": [],
   "source": [
    "# Trova gli indici con NaN in catch22 e tsfel\n",
    "nan_indices_catch22 = np.where(np.isnan(catch22).any(axis=1))[0]\n",
    "nan_indices_tsfel = np.where(np.isnan(tsfel).any(axis=1))[0]\n",
    "\n",
    "# Unione degli indici da rimuovere\n",
    "indices_to_remove = np.union1d(nan_indices_catch22, nan_indices_tsfel)\n",
    "\n",
    "# Rimuovi gli indici da catch22, tsfel e y\n",
    "catch22 = np.delete(catch22, indices_to_remove, axis=0)\n",
    "tsfel = np.delete(tsfel, indices_to_remove, axis=0)\n",
    "y = np.delete(y, indices_to_remove, axis=0)\n",
    "\n",
    "# Stampa le nuove shape per verifica\n",
    "print(f\"Shape catch22 dopo rimozione: {catch22.shape}\")\n",
    "print(f\"Shape tsfel dopo rimozione: {tsfel.shape}\")\n",
    "print(f\"Shape labels dopo rimozione: {y.shape}\")\n",
    "\n",
    "# Trova gli indici dei valori NaN in catch22\n",
    "nan_indices_catch22 = np.where(np.isnan(catch22))\n",
    "print(\"Indici dei NaN in catch22:\", nan_indices_catch22)\n",
    "\n",
    "# Trova gli indici dei valori NaN in tsfel\n",
    "nan_indices_tsfel = np.where(np.isnan(tsfel))\n",
    "print(\"Indici dei NaN in tsfel:\", nan_indices_tsfel)"
   ]
  },
  {
   "cell_type": "code",
   "execution_count": 73,
   "id": "3f0c351e",
   "metadata": {},
   "outputs": [
    {
     "name": "stdout",
     "output_type": "stream",
     "text": [
      "Distribuzione originale delle classi: Counter({np.int64(0): 109828, np.int64(1): 109462, np.int64(3): 41617, np.int64(2): 41018, np.int64(5): 36966, np.int64(4): 36467})\n",
      "Distribuzione bilanciata delle classi: Counter({np.int64(0): 36467, np.int64(3): 36467, np.int64(2): 36467, np.int64(4): 36467, np.int64(5): 36467, np.int64(1): 36467})\n",
      "Shape catch22_balanced: (218802, 132)\n",
      "Shape tsfel_balanced: (218802, 270)\n",
      "Shape labels_balanced: (218802,)\n"
     ]
    }
   ],
   "source": [
    "# Controlla la distribuzione originale delle classi\n",
    "print(\"Distribuzione originale delle classi:\", Counter(y))\n",
    "\n",
    "# Trova la classe con il numero minimo di esempi\n",
    "min_class_count = min(Counter(y).values())\n",
    "\n",
    "# Indici bilanciati con selezione casuale\n",
    "balanced_indices = []\n",
    "np.random.seed(42)  # Per riproducibilità\n",
    "for label in np.unique(y):\n",
    "    label_indices = np.where(y == label)[0]\n",
    "    # Seleziona casualmente 'min_class_count' indici per ogni classe\n",
    "    selected_indices = np.random.choice(label_indices, min_class_count, replace=False)\n",
    "    balanced_indices.extend(selected_indices)\n",
    "\n",
    "# Shuffle finale degli indici bilanciati\n",
    "np.random.shuffle(balanced_indices)\n",
    "\n",
    "# Applica gli indici bilanciati ai dataset\n",
    "catch22_bal = catch22[balanced_indices]\n",
    "tsfel_bal = tsfel[balanced_indices]\n",
    "y_bal = y[balanced_indices]\n",
    "\n",
    "# Controlla la nuova distribuzione delle classi\n",
    "print(\"Distribuzione bilanciata delle classi:\", Counter(y_bal))\n",
    "print(f\"Shape catch22_balanced: {catch22_bal.shape}\")\n",
    "print(f\"Shape tsfel_balanced: {tsfel_bal.shape}\")\n",
    "print(f\"Shape labels_balanced: {y_bal.shape}\")"
   ]
  },
  {
   "cell_type": "code",
   "execution_count": 74,
   "id": "25e92a72",
   "metadata": {},
   "outputs": [
    {
     "name": "stdout",
     "output_type": "stream",
     "text": [
      "False False\n",
      "False False\n",
      "False False\n",
      "False False\n"
     ]
    }
   ],
   "source": [
    "print(np.isnan(catch22).any(), np.isinf(catch22).any())\n",
    "print(np.isnan(tsfel).any(), np.isinf(tsfel).any())\n",
    "print(np.isnan(catch22_bal).any(), np.isinf(catch22_bal).any())\n",
    "print(np.isnan(tsfel_bal).any(), np.isinf(tsfel_bal).any())"
   ]
  },
  {
   "cell_type": "code",
   "execution_count": null,
   "id": "659c8bff",
   "metadata": {},
   "outputs": [
    {
     "name": "stderr",
     "output_type": "stream",
     "text": [
      "Training epochs..: 100%|██████████| 100/100 [03:46<00:00,  2.26s/it]\n"
     ]
    },
    {
     "name": "stdout",
     "output_type": "stream",
     "text": [
      "Tempo totale di addestramento: 226.23 secondi\n",
      "Tempo di valutazione (predizioni): 0.36 secondi\n",
      "\n",
      "Accuratezza finale: 0.8898\n",
      "Accuratezza media: 0.8627\n",
      "Accuratezza minima: 0.6267, epoca: 1\n",
      "Accuratezza massima: 0.8898, epoca: 100\n",
      "Loss finale: 0.2589, epoca: 1\n",
      "Loss media: 0.3594\n",
      "Loss minima: 0.2589, epoca: 100\n",
      "Loss massima: 1.3761, epoca: 1\n",
      "\n",
      "Tempo di esecuzione TSFEL bilanciato: 226.59 secondi\n",
      "\n"
     ]
    },
    {
     "name": "stderr",
     "output_type": "stream",
     "text": [
      "Training epochs..: 100%|██████████| 100/100 [03:34<00:00,  2.15s/it]\n"
     ]
    },
    {
     "name": "stdout",
     "output_type": "stream",
     "text": [
      "Tempo totale di addestramento: 214.72 secondi\n",
      "Tempo di valutazione (predizioni): 0.56 secondi\n",
      "\n",
      "Accuratezza finale: 0.8278\n",
      "Accuratezza media: 0.7904\n",
      "Accuratezza minima: 0.5518, epoca: 1\n",
      "Accuratezza massima: 0.8278, epoca: 100\n",
      "Loss finale: 0.4082, epoca: 1\n",
      "Loss media: 0.5378\n",
      "Loss minima: 0.4082, epoca: 100\n",
      "Loss massima: 1.4822, epoca: 1\n",
      "\n",
      "\n",
      "Tempo di esecuzione CATCH22 bilanciato: 215.28 secondi\n",
      "\n"
     ]
    },
    {
     "name": "stderr",
     "output_type": "stream",
     "text": [
      "Training epochs..: 100%|██████████| 100/100 [07:09<00:00,  4.29s/it]\n"
     ]
    },
    {
     "name": "stdout",
     "output_type": "stream",
     "text": [
      "Tempo totale di addestramento: 429.14 secondi\n",
      "Tempo di valutazione (predizioni): 0.85 secondi\n",
      "\n",
      "Accuratezza finale: 0.9272\n",
      "Accuratezza media: 0.9111\n",
      "Accuratezza minima: 0.7628, epoca: 1\n",
      "Accuratezza massima: 0.9274, epoca: 93\n",
      "Loss finale: 0.1870, epoca: 1\n",
      "Loss media: 0.2571\n",
      "Loss minima: 0.1870, epoca: 100\n",
      "Loss massima: 1.0551, epoca: 1\n",
      "\n",
      "\n",
      "Tempo di esecuzione TSFEL sbilanciato: 430.00 secondi\n",
      "\n"
     ]
    },
    {
     "name": "stderr",
     "output_type": "stream",
     "text": [
      "Training epochs..: 100%|██████████| 100/100 [06:27<00:00,  3.87s/it]\n"
     ]
    },
    {
     "name": "stdout",
     "output_type": "stream",
     "text": [
      "Tempo totale di addestramento: 387.01 secondi\n",
      "Tempo di valutazione (predizioni): 0.65 secondi\n",
      "\n",
      "Accuratezza finale: 0.8825\n",
      "Accuratezza media: 0.8593\n",
      "Accuratezza minima: 0.6941, epoca: 1\n",
      "Accuratezza massima: 0.8826, epoca: 96\n",
      "Loss finale: 0.3020, epoca: 1\n",
      "Loss media: 0.3954\n",
      "Loss minima: 0.3020, epoca: 100\n",
      "Loss massima: 1.2095, epoca: 1\n",
      "\n",
      "\n",
      "Tempo di esecuzione CATCH22 sbilanciato: 387.66 secondi\n",
      "\n"
     ]
    }
   ],
   "source": [
    "lr = 1e-4\n",
    "seed = 42\n",
    "criterion = nn.CrossEntropyLoss()\n",
    "\n",
    "\n",
    "model_tsfel_bal = SimpleMLP(input_dim=tsfel_bal.shape[1], num_classes=6)\n",
    "model_catch22_bal = SimpleMLP(input_dim=catch22_bal.shape[1], num_classes=6)\n",
    "\n",
    "model_tsfel = SimpleMLP(input_dim=tsfel.shape[1], num_classes=6)\n",
    "model_catch22 = SimpleMLP(input_dim=catch22.shape[1], num_classes=6)\n",
    "\n",
    "optimizer_catch22_bal = optim.Adam(model_catch22_bal.parameters(), lr=lr)\n",
    "optimizer_tsfel_bal = optim.Adam(model_tsfel_bal.parameters(), lr=lr)\n",
    "\n",
    "optimizer_catch22 = optim.Adam(model_catch22.parameters(), lr=lr)\n",
    "optimizer_tsfel = optim.Adam(model_tsfel.parameters(), lr=lr)\n",
    "\n",
    "batch_size = 1024\n",
    "\n",
    "# Confronto Accuracy per dati sbilanciati e bilanciati\n",
    "train_loader_tsfel_bal, val_loader_tsfel_bal = loaders_maker(tsfel_bal, y_bal, batch_size, seed) # bilanciati\n",
    "\n",
    "startT = time.time()\n",
    "acc_vec_tsfel, loss_vec_tsfel = train_model(model_tsfel_bal.to(device), train_loader_tsfel_bal, val_loader_tsfel_bal, criterion, optimizer_tsfel_bal, 100)\n",
    "print(f\"Tempo di esecuzione TSFEL bilanciato: {time.time() - startT:.2f} secondi\\n\")\n",
    "\n",
    "train_loader_catch22_bal, val_loader_catch22_bal = loaders_maker(catch22_bal, y_bal, batch_size, seed)\n",
    "\n",
    "startT = time.time()\n",
    "acc_vec_catch22, loss_vec_catch22 = train_model(model_catch22_bal.to(device), train_loader_catch22_bal, val_loader_catch22_bal, criterion, optimizer_catch22_bal, 100)\n",
    "print(f\"\\nTempo di esecuzione CATCH22 bilanciato: {time.time() - startT:.2f} secondi\\n\")\n",
    "\n",
    "train_loader_tsfel, val_loader_tsfel = loaders_maker(tsfel, y, batch_size, seed) # sbilanciati\n",
    "\n",
    "startT = time.time()\n",
    "acc_vec_tsfel, loss_vec_tsfel = train_model(model_tsfel.to(device), train_loader_tsfel, val_loader_tsfel, criterion, optimizer_tsfel, 100)\n",
    "print(f\"\\nTempo di esecuzione TSFEL sbilanciato: {time.time() - startT:.2f} secondi\\n\")\n",
    "\n",
    "train_loader_catch22, val_loader_catch22 = loaders_maker(catch22, y, batch_size, seed)\n",
    "\n",
    "startT = time.time()\n",
    "acc_vec_catch22, loss_vec_catch22 = train_model(model_catch22.to(device), train_loader_catch22, val_loader_catch22, criterion, optimizer_catch22, 100)\n",
    "print(f\"\\nTempo di esecuzione CATCH22 sbilanciato: {time.time() - startT:.2f} secondi\\n\")"
   ]
  },
  {
   "cell_type": "code",
   "execution_count": null,
   "id": "52b29e7a",
   "metadata": {},
   "outputs": [
    {
     "name": "stdout",
     "output_type": "stream",
     "text": [
      "Seed: 64\n"
     ]
    },
    {
     "name": "stderr",
     "output_type": "stream",
     "text": [
      "Training epochs..: 100%|██████████| 100/100 [07:00<00:00,  4.21s/it]\n"
     ]
    },
    {
     "name": "stdout",
     "output_type": "stream",
     "text": [
      "Tempo totale di addestramento: 420.77 secondi\n",
      "Tempo di valutazione (predizioni): 0.56 secondi\n",
      "\n",
      "Accuratezza finale: 0.9256\n",
      "Accuratezza media: 0.9096\n",
      "Accuratezza minima: 0.7617, epoca: 1\n",
      "Accuratezza massima: 0.9257, epoca: 99\n",
      "Loss finale: 0.1875, epoca: 1\n",
      "Loss media: 0.2585\n",
      "Loss minima: 0.1875, epoca: 100\n",
      "Loss massima: 1.0616, epoca: 1\n",
      "\n"
     ]
    },
    {
     "name": "stderr",
     "output_type": "stream",
     "text": [
      "Training epochs..: 100%|██████████| 100/100 [06:34<00:00,  3.94s/it]\n"
     ]
    },
    {
     "name": "stdout",
     "output_type": "stream",
     "text": [
      "Tempo totale di addestramento: 394.43 secondi\n",
      "Tempo di valutazione (predizioni): 0.72 secondi\n",
      "\n",
      "Accuratezza finale: 0.8816\n",
      "Accuratezza media: 0.8574\n",
      "Accuratezza minima: 0.6942, epoca: 1\n",
      "Accuratezza massima: 0.8816, epoca: 100\n",
      "Loss finale: 0.3001, epoca: 1\n",
      "Loss media: 0.3949\n",
      "Loss minima: 0.3001, epoca: 100\n",
      "Loss massima: 1.2100, epoca: 1\n",
      "\n",
      "Seed: 256\n"
     ]
    },
    {
     "name": "stderr",
     "output_type": "stream",
     "text": [
      "Training epochs..: 100%|██████████| 100/100 [07:04<00:00,  4.24s/it]\n"
     ]
    },
    {
     "name": "stdout",
     "output_type": "stream",
     "text": [
      "Tempo totale di addestramento: 424.11 secondi\n",
      "Tempo di valutazione (predizioni): 0.94 secondi\n",
      "\n",
      "Accuratezza finale: 0.9274\n",
      "Accuratezza media: 0.9110\n",
      "Accuratezza minima: 0.7571, epoca: 1\n",
      "Accuratezza massima: 0.9274, epoca: 100\n",
      "Loss finale: 0.1872, epoca: 1\n",
      "Loss media: 0.2598\n",
      "Loss minima: 0.1872, epoca: 100\n",
      "Loss massima: 1.0693, epoca: 1\n",
      "\n"
     ]
    },
    {
     "name": "stderr",
     "output_type": "stream",
     "text": [
      "Training epochs..: 100%|██████████| 100/100 [06:30<00:00,  3.90s/it]\n"
     ]
    },
    {
     "name": "stdout",
     "output_type": "stream",
     "text": [
      "Tempo totale di addestramento: 390.16 secondi\n",
      "Tempo di valutazione (predizioni): 0.54 secondi\n",
      "\n",
      "Accuratezza finale: 0.8852\n",
      "Accuratezza media: 0.8617\n",
      "Accuratezza minima: 0.6984, epoca: 1\n",
      "Accuratezza massima: 0.8854, epoca: 99\n",
      "Loss finale: 0.2987, epoca: 1\n",
      "Loss media: 0.3922\n",
      "Loss minima: 0.2987, epoca: 100\n",
      "Loss massima: 1.2000, epoca: 1\n",
      "\n",
      "Seed: 571\n"
     ]
    },
    {
     "name": "stderr",
     "output_type": "stream",
     "text": [
      "Training epochs..: 100%|██████████| 100/100 [06:29<00:00,  3.90s/it]\n"
     ]
    },
    {
     "name": "stdout",
     "output_type": "stream",
     "text": [
      "Tempo totale di addestramento: 389.65 secondi\n",
      "Tempo di valutazione (predizioni): 0.57 secondi\n",
      "\n",
      "Accuratezza finale: 0.9258\n",
      "Accuratezza media: 0.9100\n",
      "Accuratezza minima: 0.7495, epoca: 1\n",
      "Accuratezza massima: 0.9263, epoca: 97\n",
      "Loss finale: 0.1862, epoca: 1\n",
      "Loss media: 0.2578\n",
      "Loss minima: 0.1862, epoca: 100\n",
      "Loss massima: 1.0797, epoca: 1\n",
      "\n"
     ]
    },
    {
     "name": "stderr",
     "output_type": "stream",
     "text": [
      "Training epochs..: 100%|██████████| 100/100 [06:05<00:00,  3.66s/it]\n"
     ]
    },
    {
     "name": "stdout",
     "output_type": "stream",
     "text": [
      "Tempo totale di addestramento: 365.74 secondi\n",
      "Tempo di valutazione (predizioni): 0.67 secondi\n",
      "\n",
      "Accuratezza finale: 0.8835\n",
      "Accuratezza media: 0.8604\n",
      "Accuratezza minima: 0.6983, epoca: 1\n",
      "Accuratezza massima: 0.8836, epoca: 97\n",
      "Loss finale: 0.2967, epoca: 1\n",
      "Loss media: 0.3908\n",
      "Loss minima: 0.2967, epoca: 100\n",
      "Loss massima: 1.1959, epoca: 1\n",
      "\n"
     ]
    }
   ],
   "source": [
    "# Test sugli mlp\n",
    "# 0-Walking, 1-Jogging, 2-DownStairs, 3-UpStairs, 4-Sitting, 5-Standing\n",
    "n_epoche = 100\n",
    "seeds = [64, 256, 571]\n",
    "batch_size = 1024\n",
    "criterion = nn.CrossEntropyLoss()\n",
    "lr = 1e-4\n",
    "\n",
    "acc_tsfel = []\n",
    "acc_catch22 = []\n",
    "\n",
    "loss_tsfel = []\n",
    "loss_catch22 = []\n",
    "\n",
    "execution_tsfel_times = []\n",
    "execution_catch22_times = []\n",
    "\n",
    "for seed in seeds:\n",
    "    print(f\"Seed: {seed}\")\n",
    "    \n",
    "    model_tsfel = SimpleMLP(input_dim=tsfel.shape[1], num_classes=6)\n",
    "    model_catch22 = SimpleMLP(input_dim=catch22.shape[1], num_classes=6)\n",
    "\n",
    "    train_loader_tsfel, val_loader_tsfel = loaders_maker(tsfel, y, batch_size, seed)\n",
    "    optimizer = optim.Adam(model_tsfel.parameters(), lr=lr)\n",
    "\n",
    "    startT = time.time()\n",
    "    acc_vec_tsfel, loss_vec_tsfel = train_model(model_tsfel.to(device), train_loader_tsfel, val_loader_tsfel, criterion, optimizer, n_epoche)\n",
    "    execution_tsfel_times.append(time.time() - startT)\n",
    "\n",
    "    acc_tsfel.append(acc_vec_tsfel)\n",
    "    loss_tsfel.append(loss_vec_tsfel)\n",
    "\n",
    "    train_loader_catch22, val_loader_catch22 = loaders_maker(catch22, y, batch_size, seed)\n",
    "    optimizer = optim.Adam(model_catch22.parameters(), lr=lr)\n",
    "\n",
    "    startT = time.time()\n",
    "    acc_vec_catch22, loss_vec_catch22 = train_model(model_catch22.to(device), train_loader_catch22, val_loader_catch22, criterion, optimizer, n_epoche)\n",
    "    execution_catch22_times.append(time.time() - startT)\n",
    "    \n",
    "    acc_catch22.append(acc_vec_catch22)\n",
    "    loss_catch22.append(loss_vec_catch22)\n"
   ]
  },
  {
   "cell_type": "code",
   "execution_count": 105,
   "id": "8aa56d43",
   "metadata": {},
   "outputs": [
    {
     "data": {
      "image/png": "[encoded data removed]",
      "text/plain": [
       "<Figure size 1600x800 with 1 Axes>"
      ]
     },
     "metadata": {},
     "output_type": "display_data"
    },
    {
     "data": {
      "image/png": "[encoded data removed]",
      "text/plain": [
       "<Figure size 1600x800 with 1 Axes>"
      ]
     },
     "metadata": {},
     "output_type": "display_data"
    }
   ],
   "source": [
    "plot_results(acc_tsfel, acc_catch22, loss_tsfel, loss_catch22, n_epoche)\n"
   ]
  },
  {
   "cell_type": "code",
   "execution_count": 107,
   "id": "886239b9",
   "metadata": {},
   "outputs": [
    {
     "name": "stdout",
     "output_type": "stream",
     "text": [
      "Seed: 64\n"
     ]
    },
    {
     "name": "stderr",
     "output_type": "stream",
     "text": [
      "Training epochs..: 100%|██████████| 100/100 [17:56<00:00, 10.76s/it]\n"
     ]
    },
    {
     "name": "stdout",
     "output_type": "stream",
     "text": [
      "Tempo totale di addestramento: 1076.25 secondi\n",
      "Tempo di valutazione (predizioni): 1.23 secondi\n",
      "\n",
      "Accuratezza finale: 0.9325\n",
      "Accuratezza media: 0.9186\n",
      "Accuratezza minima: 0.8262, epoca: 1\n",
      "Accuratezza massima: 0.9326, epoca: 97\n",
      "Loss finale: 0.1380, epoca: 1\n",
      "Loss media: 0.2119\n",
      "Loss minima: 0.1366, epoca: 98\n",
      "Loss massima: 0.7579, epoca: 1\n",
      "\n"
     ]
    },
    {
     "name": "stderr",
     "output_type": "stream",
     "text": [
      "Training epochs..: 100%|██████████| 100/100 [11:56<00:00,  7.16s/it]\n"
     ]
    },
    {
     "name": "stdout",
     "output_type": "stream",
     "text": [
      "Tempo totale di addestramento: 716.32 secondi\n",
      "Tempo di valutazione (predizioni): 0.93 secondi\n",
      "\n",
      "Accuratezza finale: 0.8966\n",
      "Accuratezza media: 0.8766\n",
      "Accuratezza minima: 0.7554, epoca: 1\n",
      "Accuratezza massima: 0.8966, epoca: 100\n",
      "Loss finale: 0.2359, epoca: 1\n",
      "Loss media: 0.3275\n",
      "Loss minima: 0.2359, epoca: 100\n",
      "Loss massima: 0.9211, epoca: 1\n",
      "\n",
      "Seed: 256\n"
     ]
    },
    {
     "name": "stderr",
     "output_type": "stream",
     "text": [
      "Training epochs..: 100%|██████████| 100/100 [18:06<00:00, 10.87s/it]\n"
     ]
    },
    {
     "name": "stdout",
     "output_type": "stream",
     "text": [
      "Tempo totale di addestramento: 1086.90 secondi\n",
      "Tempo di valutazione (predizioni): 1.39 secondi\n",
      "\n",
      "Accuratezza finale: 0.9324\n",
      "Accuratezza media: 0.9193\n",
      "Accuratezza minima: 0.8220, epoca: 1\n",
      "Accuratezza massima: 0.9331, epoca: 98\n",
      "Loss finale: 0.1487, epoca: 1\n",
      "Loss media: 0.2238\n",
      "Loss minima: 0.1487, epoca: 100\n",
      "Loss massima: 0.7434, epoca: 1\n",
      "\n"
     ]
    },
    {
     "name": "stderr",
     "output_type": "stream",
     "text": [
      "Training epochs..: 100%|██████████| 100/100 [12:27<00:00,  7.47s/it]\n"
     ]
    },
    {
     "name": "stdout",
     "output_type": "stream",
     "text": [
      "Tempo totale di addestramento: 747.47 secondi\n",
      "Tempo di valutazione (predizioni): 0.95 secondi\n",
      "\n",
      "Accuratezza finale: 0.8974\n",
      "Accuratezza media: 0.8781\n",
      "Accuratezza minima: 0.7559, epoca: 1\n",
      "Accuratezza massima: 0.8974, epoca: 100\n",
      "Loss finale: 0.2350, epoca: 1\n",
      "Loss media: 0.3295\n",
      "Loss minima: 0.2350, epoca: 100\n",
      "Loss massima: 0.9317, epoca: 1\n",
      "\n",
      "Seed: 571\n"
     ]
    },
    {
     "name": "stderr",
     "output_type": "stream",
     "text": [
      "Training epochs..: 100%|██████████| 100/100 [19:03<00:00, 11.44s/it]\n"
     ]
    },
    {
     "name": "stdout",
     "output_type": "stream",
     "text": [
      "Tempo totale di addestramento: 1143.99 secondi\n",
      "Tempo di valutazione (predizioni): 1.21 secondi\n",
      "\n",
      "Accuratezza finale: 0.9303\n",
      "Accuratezza media: 0.9163\n",
      "Accuratezza minima: 0.8155, epoca: 1\n",
      "Accuratezza massima: 0.9323, epoca: 91\n",
      "Loss finale: 0.1472, epoca: 1\n",
      "Loss media: 0.2257\n",
      "Loss minima: 0.1472, epoca: 100\n",
      "Loss massima: 0.7640, epoca: 1\n",
      "\n"
     ]
    },
    {
     "name": "stderr",
     "output_type": "stream",
     "text": [
      "Training epochs..: 100%|██████████| 100/100 [12:21<00:00,  7.42s/it]\n"
     ]
    },
    {
     "name": "stdout",
     "output_type": "stream",
     "text": [
      "Tempo totale di addestramento: 741.91 secondi\n",
      "Tempo di valutazione (predizioni): 0.87 secondi\n",
      "\n",
      "Accuratezza finale: 0.8947\n",
      "Accuratezza media: 0.8769\n",
      "Accuratezza minima: 0.7578, epoca: 1\n",
      "Accuratezza massima: 0.8953, epoca: 95\n",
      "Loss finale: 0.2220, epoca: 1\n",
      "Loss media: 0.3215\n",
      "Loss minima: 0.2220, epoca: 100\n",
      "Loss massima: 0.9021, epoca: 1\n",
      "\n"
     ]
    }
   ],
   "source": [
    "n_epoche = 100\n",
    "seeds = [64, 256, 571]\n",
    "batch_size = 1024\n",
    "criterion = nn.CrossEntropyLoss()\n",
    "lr = 1e-4\n",
    "\n",
    "acc_tsfel = []\n",
    "acc_catch22 = []\n",
    "\n",
    "loss_tsfel = []\n",
    "loss_catch22 = []\n",
    "\n",
    "execution_tsfel_times = []\n",
    "execution_catch22_times = []\n",
    "\n",
    "for seed in seeds:\n",
    "    # adesso con le cnn\n",
    "    print(f\"Seed: {seed}\")\n",
    "    model_tsfel = SimpleCNN(input_channels=1, sequence_length=tsfel.shape[1], num_classes=6)\n",
    "    model_catch22 = SimpleCNN(input_channels=1, sequence_length=catch22.shape[1], num_classes=6)\n",
    "\n",
    "    train_loader_tsfel, val_loader_tsfel = loaders_maker(tsfel.reshape(tsfel.shape[0], 1, tsfel.shape[1]), y, batch_size, seed)\n",
    "    optimizer = optim.Adam(model_tsfel.parameters(), lr=lr)\n",
    "    startT = time.time()\n",
    "    acc_vec_tsfel, loss_vec_tsfel = train_model(model_tsfel.to(device), train_loader_tsfel, val_loader_tsfel, criterion, optimizer, n_epoche)\n",
    "    \n",
    "    execution_tsfel_times.append(time.time() - startT)\n",
    "    acc_tsfel.append(acc_vec_tsfel)\n",
    "    loss_tsfel.append(loss_vec_tsfel)\n",
    "    \n",
    "    train_loader_catch22, val_loader_catch22 = loaders_maker(catch22.reshape(catch22.shape[0], 1, catch22.shape[1]), y, batch_size, seed)\n",
    "    optimizer = optim.Adam(model_catch22.parameters(), lr=lr)\n",
    "    startT = time.time()\n",
    "    acc_vec_catch22, loss_vec_catch22 = train_model(model_catch22.to(device), train_loader_catch22, val_loader_catch22, criterion, optimizer, n_epoche)\n",
    "    \n",
    "    execution_catch22_times.append(time.time() - startT)\n",
    "    acc_catch22.append(acc_vec_catch22)\n",
    "    loss_catch22.append(loss_vec_catch22)\n",
    "\n"
   ]
  }
 ],
 "metadata": {
  "kernelspec": {
   "display_name": "env310",
   "language": "python",
   "name": "python3"
  },
  "language_info": {
   "codemirror_mode": {
    "name": "ipython",
    "version": 3
   },
   "file_extension": ".py",
   "mimetype": "text/x-python",
   "name": "python",
   "nbconvert_exporter": "python",
   "pygments_lexer": "ipython3",
   "version": "3.10.0"
  }
 },
 "nbformat": 4,
 "nbformat_minor": 5
}
