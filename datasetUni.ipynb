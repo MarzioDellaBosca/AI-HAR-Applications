{
 "cells": [
  {
   "cell_type": "markdown",
   "id": "db4b3d98",
   "metadata": {},
   "source": [
    "#### Progetto di corso per APPLICAZIONI DELL'INTELLIGENZA ARTIFICIALE (AA 2024-2025)\n",
    "#### Stud: Marzio Della Bosca\n",
    "\n",
    "\n",
    "Questo notebook si occupa di aggregare dei set di feature provenienti da **Motion Sense**, **Heterogeneity Human Activity Recognition**, **Wisdm** e **Moby Act** dove possibile (es. stesse etichette di attività). Le attività proposte nel Notebook sono quelle di accgregazione dei dati, uniformamento delle etichette e scalamento dei dati.\n",
    "\n",
    "I dati caricati, anche se provenienti da dataset e device a diversa frequenza di campionamento, sono provenienti da estrazioni mediante catch22 e tsfel su finestre di 2 secondi il che rende più semplice l'aggregazione (mantenendo coerenza nell'unione dei dati)."
   ]
  },
  {
   "cell_type": "code",
   "execution_count": 1,
   "id": "94ee009a",
   "metadata": {},
   "outputs": [],
   "source": [
    "import warnings\n",
    "warnings.filterwarnings(\"ignore\")\n",
    "from tqdm import tqdm\n",
    "import time\n",
    "import os\n",
    "\n",
    "import matplotlib.pyplot as plt\n",
    "import seaborn as sns\n",
    "\n",
    "import numpy as np\n",
    "import pandas as pd\n",
    "\n",
    "from sklearn.preprocessing import StandardScaler"
   ]
  },
  {
   "cell_type": "code",
   "execution_count": 2,
   "id": "20d36018",
   "metadata": {},
   "outputs": [],
   "source": [
    "# Load dataset\n",
    "\n",
    "motion_catch22 = np.load('motion_catch22_40.npy')\n",
    "motion_tsfel = np.load('motion_tsfel_40.npy')\n",
    "motion_labels = np.load('motion_labels_40.npy')\n",
    "\n",
    "moby_catch22 = np.load('mobiact_catch22_40.npy')\n",
    "moby_tsfel = np.load('mobiact_tsfel_40.npy')\n",
    "moby_labels = np.load('mobyact_labels_40.npy')\n",
    "\n",
    "hhar_catch22 = np.load('hhar_catch22.npy')\n",
    "hhar_tsfel = np.load('hhar_tsfel.npy')\n",
    "hhar_labels = np.load('hhar_labels.npy', allow_pickle=True)\n",
    "\n",
    "wisdm_catch22 = np.load('wisdm_catch22.npy')\n",
    "wisdm_tsfel = np.load('wisdm_tsfel.npy')\n",
    "wisdm_labels = np.load('wisdm_labels.npy')"
   ]
  },
  {
   "cell_type": "code",
   "execution_count": 3,
   "id": "3d0f8be5",
   "metadata": {},
   "outputs": [
    {
     "name": "stdout",
     "output_type": "stream",
     "text": [
      "Motion Catch22 shape: (35321, 22, 6)\n",
      "Motion TSFEL shape: (35321, 45, 6)\n",
      "Motion labels shape: (35321,)\n",
      "\n",
      "MobyAct Catch22 shape: (281167, 22, 6)\n",
      "MobyAct TSFEL shape: (281167, 45, 6)\n",
      "MobyAct labels shape: (281167,)\n",
      "\n",
      "HHAR Catch22 shape: (46787, 6, 22)\n",
      "HHAR TSFEL shape: (46787, 6, 45)\n",
      "HHAR labels shape: (46787,)\n",
      "\n",
      "WISDM Catch22 shape: (22857, 6, 22)\n",
      "WISDM TSFEL shape: (22857, 6, 45)\n",
      "WISDM labels shape: (22857,)\n"
     ]
    }
   ],
   "source": [
    "print(\"Motion Catch22 shape:\", motion_catch22.shape)\n",
    "print(\"Motion TSFEL shape:\", motion_tsfel.shape)\n",
    "print(\"Motion labels shape:\", motion_labels.shape)\n",
    "\n",
    "print(\"\\nMobyAct Catch22 shape:\", moby_catch22.shape)\n",
    "print(\"MobyAct TSFEL shape:\", moby_tsfel.shape)\n",
    "print(\"MobyAct labels shape:\", moby_labels.shape)\n",
    "\n",
    "print(\"\\nHHAR Catch22 shape:\", hhar_catch22.shape)\n",
    "print(\"HHAR TSFEL shape:\", hhar_tsfel.shape)\n",
    "print(\"HHAR labels shape:\", hhar_labels.shape)\n",
    "\n",
    "print(\"\\nWISDM Catch22 shape:\", wisdm_catch22.shape)\n",
    "print(\"WISDM TSFEL shape:\", wisdm_tsfel.shape)\n",
    "print(\"WISDM labels shape:\", wisdm_labels.shape)"
   ]
  },
  {
   "cell_type": "code",
   "execution_count": 4,
   "id": "5146f0d1",
   "metadata": {},
   "outputs": [
    {
     "name": "stdout",
     "output_type": "stream",
     "text": [
      "\n",
      "Unique labels in Motion dataset: [0. 1. 2. 3. 4. 5.]\n",
      "Unique labels in MobyAct dataset: [1. 2. 3. 4. 5. 6. 7.]\n",
      "Unique labels in HHAR dataset: ['bike' 'sit' 'stairsdown' 'stairsup' 'stand' 'walk']\n",
      "Unique labels in WISDM dataset: ['A' 'B' 'C' 'D' 'E']\n"
     ]
    }
   ],
   "source": [
    "# WISDM : Walking A - Jogging B - Stairs C - Sitting D - Standing E\n",
    "# MOBY : 1-Walking, 2-Jogging, 3-StairsDwn, 4-StairsUp, 5-Sitting, 6-Standing, 7-Running\n",
    "# MOTION : 0-Downstair, 1-Upstair, 2-Walking, 3-Jogging, 4-Sitting, 5-Standing\n",
    "# HHAR : Biking, Sitting, Standing, Walking, Stair Up, Stair down\n",
    "\n",
    "\n",
    "# Verifico i vari formati delle label e li uniformo\n",
    "print(\"\\nUnique labels in Motion dataset:\", np.unique(motion_labels))\n",
    "print(\"Unique labels in MobyAct dataset:\", np.unique(moby_labels))\n",
    "print(\"Unique labels in HHAR dataset:\", np.unique(hhar_labels))\n",
    "print(\"Unique labels in WISDM dataset:\", np.unique(wisdm_labels))\n"
   ]
  },
  {
   "cell_type": "code",
   "execution_count": 5,
   "id": "03304d89",
   "metadata": {},
   "outputs": [
    {
     "name": "stdout",
     "output_type": "stream",
     "text": [
      "\n",
      "Unique labels in Motion dataset: [0 1 2 3 4 5]\n",
      "Unique labels in MobyAct dataset: [0 1 2 3 4 5]\n",
      "Unique labels in HHAR dataset: [0 2 3 4 5 9]\n",
      "Unique labels in WISDM dataset: [0 1 4 5 9]\n"
     ]
    }
   ],
   "source": [
    "# Le nuove label sono: 0-Walking, 1-Jogging, 2-DownStairs, 3-UpStairs, 4-Sitting, 5-Standing\n",
    "for i in range(len(motion_labels)):\n",
    "    if motion_labels[i] == 0:  # Downstair\n",
    "        motion_labels[i] = 2\n",
    "    elif motion_labels[i] == 1:  # Upstair\n",
    "        motion_labels[i] = 3\n",
    "    elif motion_labels[i] == 2:  # Walking\n",
    "        motion_labels[i] = 0\n",
    "    elif motion_labels[i] == 3:  # Jogging\n",
    "        motion_labels[i] = 1\n",
    "\n",
    "\n",
    "for i in range(len(moby_labels)):\n",
    "    if moby_labels[i] == 1:  # Walking\n",
    "        moby_labels[i] = 0\n",
    "    elif moby_labels[i] == 2:  # Jogging\n",
    "        moby_labels[i] = 1\n",
    "    elif moby_labels[i] == 3:  # Stairs Down\n",
    "        moby_labels[i] = 2\n",
    "    elif moby_labels[i] == 4:  # Stairs Up\n",
    "        moby_labels[i] = 3\n",
    "    elif moby_labels[i] == 5:  # Sitting\n",
    "        moby_labels[i] = 4\n",
    "    elif moby_labels[i] == 6:  # Standing\n",
    "        moby_labels[i] = 5\n",
    "    elif moby_labels[i] == 7:  # Running - lo metto come jogging\n",
    "        moby_labels[i] = 1\n",
    "\n",
    "hhar_map = {                                                            # con hhar e wisdm ho dovuto fare un mapping manuale per ottenere un vettore di label di interi\n",
    "    'walk': 0, 'stairsdown': 2, 'stairsup': 3,\n",
    "    'sit': 4, 'stand': 5, 'bike': 9\n",
    "}\n",
    "hhar_labels = np.array([hhar_map[l] for l in hhar_labels], dtype=int)\n",
    "\n",
    "wisdm_map = {'A': 0, 'B': 1, 'C': 9, 'D': 4, 'E': 5}\n",
    "wisdm_labels = np.array([wisdm_map[l] for l in wisdm_labels], dtype=int)\n",
    "\n",
    "motion_labels = np.array(motion_labels, dtype=int)\n",
    "moby_labels = np.array(moby_labels, dtype=int)\n",
    "\n",
    "print(\"\\nUnique labels in Motion dataset:\", np.unique(motion_labels))\n",
    "print(\"Unique labels in MobyAct dataset:\", np.unique(moby_labels))\n",
    "print(\"Unique labels in HHAR dataset:\", np.unique(hhar_labels))\n",
    "print(\"Unique labels in WISDM dataset:\", np.unique(wisdm_labels))"
   ]
  },
  {
   "cell_type": "code",
   "execution_count": 6,
   "id": "eaba937c",
   "metadata": {},
   "outputs": [
    {
     "name": "stdout",
     "output_type": "stream",
     "text": [
      "\n",
      "HHAR Catch22 shape: (40586, 6, 22)\n",
      "HHAR TSFEL shape: (40586, 6, 45)\n",
      "HHAR labels shape: (40586,)\n",
      "\n",
      "WISDM Catch22 shape: (18326, 6, 22)\n",
      "WISDM TSFEL shape: (18326, 6, 45)\n",
      "WISDM labels shape: (18326,)\n",
      "\n",
      "Unique labels in Motion dataset: [0 1 2 3 4 5]\n",
      "Unique labels in MobyAct dataset: [0 1 2 3 4 5]\n",
      "Unique labels in HHAR dataset: [0 2 3 4 5]\n",
      "Unique labels in WISDM dataset: [0 1 4 5]\n"
     ]
    }
   ],
   "source": [
    "hhar_labels = np.array(hhar_labels)\n",
    "wisdm_labels = np.array(wisdm_labels)\n",
    "\n",
    "hhar_bad_idxs = np.where(hhar_labels == 9)[0]\n",
    "wisdm_bad_idxs = np.where(wisdm_labels == 9)[0]\n",
    "\n",
    "# Elimina label e dati con indice 9 per HHAR\n",
    "hhar_labels_y = np.delete(hhar_labels, hhar_bad_idxs, axis=0)\n",
    "hhar_X_catch22 = np.delete(hhar_catch22, hhar_bad_idxs, axis=0)\n",
    "hhar_X_tsfel = np.delete(hhar_tsfel, hhar_bad_idxs, axis=0)\n",
    "\n",
    "# Stessa cosa per WISDM\n",
    "wisdm_labels_y = np.delete(wisdm_labels, wisdm_bad_idxs, axis=0)\n",
    "wisdm_X_catch22 = np.delete(wisdm_catch22, wisdm_bad_idxs, axis=0)\n",
    "wisdm_X_tsfel = np.delete(wisdm_tsfel, wisdm_bad_idxs, axis=0)\n",
    "\n",
    "print(\"\\nHHAR Catch22 shape:\", hhar_X_catch22.shape)\n",
    "print(\"HHAR TSFEL shape:\", hhar_X_tsfel.shape)\n",
    "print(\"HHAR labels shape:\", hhar_labels_y.shape)\n",
    "\n",
    "print(\"\\nWISDM Catch22 shape:\", wisdm_X_catch22.shape)\n",
    "print(\"WISDM TSFEL shape:\", wisdm_X_tsfel.shape)\n",
    "print(\"WISDM labels shape:\", wisdm_labels_y.shape)\n",
    "\n",
    "print(\"\\nUnique labels in Motion dataset:\", np.unique(motion_labels))\n",
    "print(\"Unique labels in MobyAct dataset:\", np.unique(moby_labels))\n",
    "print(\"Unique labels in HHAR dataset:\", np.unique(hhar_labels_y))\n",
    "print(\"Unique labels in WISDM dataset:\", np.unique(wisdm_labels_y))"
   ]
  },
  {
   "cell_type": "code",
   "execution_count": 7,
   "id": "da92efe6",
   "metadata": {},
   "outputs": [
    {
     "name": "stdout",
     "output_type": "stream",
     "text": [
      "Shape combined_labels: (58912,)\n",
      "Shape combined_X_catch22: (58912, 6, 22)\n",
      "Shape combined_X_tsfel: (58912, 6, 45)\n",
      "NaN in combined_labels: False\n",
      "NaN in combined_X_catch22: False\n",
      "NaN in combined_X_tsfel: False\n",
      "Inf in combined_labels: False\n",
      "Inf in combined_X_catch22: False\n",
      "Inf in combined_X_tsfel: False\n"
     ]
    }
   ],
   "source": [
    "# Unisci i dataset HHAR e WISDM lungo l'asse 0\n",
    "combined_labels = np.concatenate((hhar_labels_y, wisdm_labels_y), axis=0)\n",
    "combined_X_catch22 = np.concatenate((hhar_X_catch22, wisdm_X_catch22), axis=0)\n",
    "combined_X_tsfel = np.concatenate((hhar_X_tsfel, wisdm_X_tsfel), axis=0)\n",
    "\n",
    "# Controlla la coerenza delle dimensioni\n",
    "print(\"Shape combined_labels:\", combined_labels.shape)\n",
    "print(\"Shape combined_X_catch22:\", combined_X_catch22.shape)\n",
    "print(\"Shape combined_X_tsfel:\", combined_X_tsfel.shape)\n",
    "\n",
    "# Verifica la presenza di NaN o Inf nei dataset combinati\n",
    "print(\"NaN in combined_labels:\", np.isnan(combined_labels).any())\n",
    "print(\"NaN in combined_X_catch22:\", np.isnan(combined_X_catch22).any())\n",
    "print(\"NaN in combined_X_tsfel:\", np.isnan(combined_X_tsfel).any())\n",
    "\n",
    "print(\"Inf in combined_labels:\", np.isinf(combined_labels).any())\n",
    "print(\"Inf in combined_X_catch22:\", np.isinf(combined_X_catch22).any())\n",
    "print(\"Inf in combined_X_tsfel:\", np.isinf(combined_X_tsfel).any())"
   ]
  },
  {
   "cell_type": "code",
   "execution_count": 8,
   "id": "ef4f8d67",
   "metadata": {},
   "outputs": [
    {
     "name": "stdout",
     "output_type": "stream",
     "text": [
      "\n",
      "Catch22 dataset shape: (375400, 132)\n",
      "TSFEL dataset shape: (375400, 270)\n",
      "Labels shape: (375400,)\n"
     ]
    }
   ],
   "source": [
    "# 2. Flatten (campioni, features * canali) \n",
    "motion_catch22_flat = motion_catch22.reshape(motion_catch22.shape[0], -1)\n",
    "moby_catch22_flat = moby_catch22.reshape(moby_catch22.shape[0], -1)\n",
    "hhar_catch22_flat = hhar_X_catch22.reshape(hhar_X_catch22.shape[0], -1)\n",
    "wisdm_catch22_flat = wisdm_X_catch22.reshape(wisdm_X_catch22.shape[0], -1)\n",
    "\n",
    "# 3. Concatena i dataset flattenati\n",
    "catch_22_uni = np.concatenate([motion_catch22_flat, moby_catch22_flat, hhar_catch22_flat, wisdm_catch22_flat], axis=0)\n",
    "\n",
    "motion_tsfel_flat = motion_tsfel.reshape(motion_tsfel.shape[0], -1)\n",
    "moby_tsfel_flat = moby_tsfel.reshape(moby_tsfel.shape[0], -1)\n",
    "hhar_tsfel_flat = hhar_X_tsfel.reshape(hhar_X_tsfel.shape[0], -1)\n",
    "wisdm_tsfel_flat = wisdm_X_tsfel.reshape(wisdm_X_tsfel.shape[0], -1)\n",
    "\n",
    "tsfel_uni = np.concatenate([motion_tsfel_flat, moby_tsfel_flat, hhar_tsfel_flat, wisdm_tsfel_flat], axis=0)\n",
    "\n",
    "# 4. Concatena le label\n",
    "labels_uni = np.concatenate([motion_labels, moby_labels, hhar_labels_y, wisdm_labels_y], axis=0)\n",
    "\n",
    "print(\"\\nCatch22 dataset shape:\", catch_22_uni.shape)\n",
    "print(\"TSFEL dataset shape:\", tsfel_uni.shape)\n",
    "print(\"Labels shape:\", labels_uni.shape)"
   ]
  },
  {
   "cell_type": "code",
   "execution_count": 10,
   "id": "3cd33bb0",
   "metadata": {},
   "outputs": [
    {
     "name": "stdout",
     "output_type": "stream",
     "text": [
      "Controllo su catch22_uni:\n",
      "NaN in catch22_uni: True\n",
      "Inf in catch22_uni: False\n",
      "\n",
      "Controllo su tsfel_uni:\n",
      "NaN in tsfel_uni: True\n",
      "Inf in tsfel_uni: False\n"
     ]
    }
   ],
   "source": [
    "print(\"Controllo su catch22_uni:\")\n",
    "print(\"NaN in catch22_uni:\", np.isnan(catch_22_uni).any())\n",
    "print(\"Inf in catch22_uni:\", np.isinf(catch_22_uni).any())\n",
    "print(\"\\nControllo su tsfel_uni:\")\n",
    "print(\"NaN in tsfel_uni:\", np.isnan(tsfel_uni).any())\n",
    "print(\"Inf in tsfel_uni:\", np.isinf(tsfel_uni).any())"
   ]
  },
  {
   "cell_type": "code",
   "execution_count": 14,
   "id": "e7f5a354",
   "metadata": {},
   "outputs": [
    {
     "name": "stdout",
     "output_type": "stream",
     "text": [
      "Shape catch22 dopo rimozione: (375358, 132)\n",
      "Shape tsfel dopo rimozione: (375358, 270)\n",
      "Shape labels dopo rimozione: (375358,)\n",
      "Indici dei NaN in catch22: (array([], dtype=int64), array([], dtype=int64))\n",
      "Indici dei NaN in tsfel: (array([], dtype=int64), array([], dtype=int64))\n",
      "Controllo su catch22_uni:\n",
      "NaN in catch22_uni: False\n",
      "Inf in catch22_uni: False\n",
      "\n",
      "Controllo su tsfel_uni:\n",
      "NaN in tsfel_uni: False\n",
      "Inf in tsfel_uni: False\n"
     ]
    }
   ],
   "source": [
    "# Trova gli indici con NaN in catch22 e tsfel\n",
    "nan_indices_catch22 = np.where(np.isnan(catch_22_uni).any(axis=1))[0]\n",
    "nan_indices_tsfel = np.where(np.isnan(tsfel_uni).any(axis=1))[0]\n",
    "\n",
    "# Unione degli indici da rimuovere\n",
    "indices_to_remove = np.union1d(nan_indices_catch22, nan_indices_tsfel)\n",
    "\n",
    "# Rimuovi gli indici da catch22, tsfel e y\n",
    "catch_22_uni = np.delete(catch_22_uni, indices_to_remove, axis=0)\n",
    "tsfel_uni = np.delete(tsfel_uni, indices_to_remove, axis=0)\n",
    "labels_uni = np.delete(labels_uni, indices_to_remove, axis=0)\n",
    "\n",
    "# Stampa le nuove shape per verifica\n",
    "print(f\"Shape catch22 dopo rimozione: {catch_22_uni.shape}\")\n",
    "print(f\"Shape tsfel dopo rimozione: {tsfel_uni.shape}\")\n",
    "print(f\"Shape labels dopo rimozione: {labels_uni.shape}\")\n",
    "\n",
    "# Trova gli indici dei valori NaN in catch22\n",
    "nan_indices_catch22 = np.where(np.isnan(catch_22_uni))\n",
    "print(\"Indici dei NaN in catch22:\", nan_indices_catch22)\n",
    "\n",
    "# Trova gli indici dei valori NaN in tsfel\n",
    "nan_indices_tsfel = np.where(np.isnan(tsfel_uni))\n",
    "print(\"Indici dei NaN in tsfel:\", nan_indices_tsfel)\n",
    "\n",
    "print(\"Controllo su catch22_uni:\")\n",
    "print(\"NaN in catch22_uni:\", np.isnan(catch_22_uni).any())\n",
    "print(\"Inf in catch22_uni:\", np.isinf(catch_22_uni).any())\n",
    "print(\"\\nControllo su tsfel_uni:\")\n",
    "print(\"NaN in tsfel_uni:\", np.isnan(tsfel_uni).any())\n",
    "print(\"Inf in tsfel_uni:\", np.isinf(tsfel_uni).any())"
   ]
  },
  {
   "cell_type": "code",
   "execution_count": 15,
   "id": "ca2dc4a2",
   "metadata": {},
   "outputs": [
    {
     "name": "stdout",
     "output_type": "stream",
     "text": [
      "Controllo su catch22_uni:\n",
      "NaN in catch22_uni: False\n",
      "Inf in catch22_uni: False\n",
      "\n",
      "Controllo su tsfel_uni:\n",
      "NaN in tsfel_uni: False\n",
      "Inf in tsfel_uni: False\n"
     ]
    }
   ],
   "source": [
    "# Scalo i dati con StandardScaler e li salvo\n",
    "scaler = StandardScaler()\n",
    "catch_22_uni = scaler.fit_transform(catch_22_uni)\n",
    "tsfel_uni = scaler.fit_transform(tsfel_uni)\n",
    "\n",
    "print(\"Controllo su catch22_uni:\")\n",
    "print(\"NaN in catch22_uni:\", np.isnan(catch_22_uni).any())\n",
    "print(\"Inf in catch22_uni:\", np.isinf(catch_22_uni).any())\n",
    "print(\"\\nControllo su tsfel_uni:\")\n",
    "print(\"NaN in tsfel_uni:\", np.isnan(tsfel_uni).any())\n",
    "print(\"Inf in tsfel_uni:\", np.isinf(tsfel_uni).any())"
   ]
  },
  {
   "cell_type": "code",
   "execution_count": 18,
   "id": "1ae0f7a3",
   "metadata": {},
   "outputs": [
    {
     "name": "stdout",
     "output_type": "stream",
     "text": [
      "Shape catch22 dopo rimozione: (375358, 132)\n",
      "Shape tsfel dopo rimozione: (375358, 270)\n",
      "Shape labels dopo rimozione: (375358,)\n"
     ]
    }
   ],
   "source": [
    "print(f\"Shape catch22 dopo rimozione: {catch_22_uni.shape}\")\n",
    "print(f\"Shape tsfel dopo rimozione: {tsfel_uni.shape}\")\n",
    "print(f\"Shape labels dopo rimozione: {labels_uni.shape}\")"
   ]
  },
  {
   "cell_type": "code",
   "execution_count": 16,
   "id": "c6d06469",
   "metadata": {},
   "outputs": [],
   "source": [
    "np.save('catch22_uni.npy', catch_22_uni)\n",
    "np.save('tsfel_uni.npy', tsfel_uni)\n",
    "np.save('labels_uni.npy', labels_uni)"
   ]
  },
  {
   "cell_type": "code",
   "execution_count": 17,
   "id": "04739eed",
   "metadata": {},
   "outputs": [
    {
     "name": "stdout",
     "output_type": "stream",
     "text": [
      "Shape combined_labels: (58912,)\n",
      "Shape combined_X_catch22: (58912, 6, 22)\n",
      "Shape combined_X_tsfel: (58912, 6, 45)\n"
     ]
    }
   ],
   "source": [
    "print(\"Shape combined_labels:\", combined_labels.shape)\n",
    "print(\"Shape combined_X_catch22:\", combined_X_catch22.shape)\n",
    "print(\"Shape combined_X_tsfel:\", combined_X_tsfel.shape)"
   ]
  },
  {
   "cell_type": "code",
   "execution_count": 19,
   "id": "416cdcd5",
   "metadata": {},
   "outputs": [],
   "source": [
    "np.save('catch22_3d_uni.npy', combined_X_catch22)\n",
    "np.save('tsfel_3d_uni.npy', combined_X_tsfel)\n",
    "np.save('labels_3d_uni.npy', combined_labels)"
   ]
  }
 ],
 "metadata": {
  "kernelspec": {
   "display_name": "env310",
   "language": "python",
   "name": "python3"
  },
  "language_info": {
   "codemirror_mode": {
    "name": "ipython",
    "version": 3
   },
   "file_extension": ".py",
   "mimetype": "text/x-python",
   "name": "python",
   "nbconvert_exporter": "python",
   "pygments_lexer": "ipython3",
   "version": "3.10.0"
  }
 },
 "nbformat": 4,
 "nbformat_minor": 5
}
