{
 "cells": [
  {
   "cell_type": "markdown",
   "id": "736c2df0",
   "metadata": {},
   "source": [
    "#### Progetto di corso per APPLICAZIONI DELL'INTELLIGENZA ARTIFICIALE (AA 2024-2025)\n",
    "#### Stud: Marzio Della Bosca\n",
    "\n",
    "\n",
    "Jupyter Notebook con la funzione di estrarre le feature, tramite catch22 e tsfel, dai dati contenuti nel dataset [Moby Act](https://bmi.hmu.gr/the-mobifall-and-mobiact-datasets-2/)"
   ]
  },
  {
   "cell_type": "code",
   "execution_count": 1,
   "id": "3547f478",
   "metadata": {},
   "outputs": [],
   "source": [
    "import tsfel\n",
    "from tqdm import tqdm\n",
    "import torch\n",
    "import warnings\n",
    "warnings.filterwarnings(\"ignore\")\n",
    "import numpy as np\n",
    "import matplotlib.pyplot as plt\n",
    "import pandas as pd\n",
    "import seaborn as sns\n",
    "import time\n",
    "from tslearn.utils import to_time_series_dataset, ts_zeros, to_time_series\n",
    "from tslearn.barycenters import softdtw_barycenter\n",
    "from sklearn.metrics import accuracy_score, confusion_matrix\n",
    "from sklearn.preprocessing import StandardScaler\n",
    "from tslearn.metrics import dtw\n",
    "import os\n",
    "import torch.nn as nn\n",
    "import torch.optim as optim\n",
    "from sklearn.model_selection import train_test_split\n",
    "from aeon.transformations.collection.feature_based import Catch22\n",
    "from sklearn.experimental import enable_hist_gradient_boosting\n",
    "from sklearn.ensemble import HistGradientBoostingClassifier\n",
    "from sklearn.model_selection import GridSearchCV\n",
    "import random as rnd"
   ]
  },
  {
   "cell_type": "code",
   "execution_count": null,
   "id": "13d8ab03",
   "metadata": {},
   "outputs": [
    {
     "name": "stdout",
     "output_type": "stream",
     "text": [
      "(12421968, 12)\n"
     ]
    }
   ],
   "source": [
    "# Caricamento del dataset\n",
    "# Struttura:\n",
    "# acc_x, acc_y, acc_z, gyr_x, gyr_y, gyr_z, classe, ...\n",
    "\n",
    "# (label-classe di riferimento): 1-Walking, 2-Jogging, 3-StairsDwn, 4-StairsUp, 5-Sitting, 6-Standing\n",
    "#                                7-Running, 8-Biking, 9-LayingDwn, 10-Static, 11-AerobicDan\n",
    "\n",
    "# Seleziono solo 1,2,3,4,5,6,7, in quanto classi simili a quelle degli altri dataset presi in considerazione\n",
    "# MobiAct è campionato a 20 Hz (paper: tramite interpolazione e downsampling viene reso da 100 a 20)\n",
    "\n",
    "mobyActP = pd.DataFrame(np.load('./MOBY_data/mobiact_full_tags.npy'))\n",
    "print(mobyActP.shape)"
   ]
  },
  {
   "cell_type": "code",
   "execution_count": 3,
   "id": "aa46810e",
   "metadata": {},
   "outputs": [
    {
     "name": "stdout",
     "output_type": "stream",
     "text": [
      "      acc_x     acc_y     acc_z     gyr_x     gyr_y     gyr_z  classe\n",
      "0 -1.307938  9.696413 -1.748079 -0.605367  0.099876  0.039095     1.0\n",
      "1 -1.255622  9.685399 -1.781121 -0.127976  0.050702  0.029322     1.0\n",
      "2 -1.206497  9.675057 -1.812147 -0.037263  0.070860  0.036957     1.0\n",
      "3 -1.156879  9.664611 -1.843484 -0.092241  0.076664  0.039401     1.0\n",
      "4 -1.075953  9.678261 -1.872745 -0.091019  0.066584  0.056200     1.0\n",
      "\n",
      "Shape del dataset filtrato: (11246698, 7)\n",
      "\n",
      "Valori unici nella colonna [6]: [1. 2. 3. 4. 5. 6. 7.]\n"
     ]
    }
   ],
   "source": [
    "mobyAct_subset = mobyActP.iloc[:, :7]\n",
    "mobyAct_subset.columns = ['acc_x', 'acc_y', 'acc_z', 'gyr_x', 'gyr_y', 'gyr_z', 'classe']\n",
    "\n",
    "# Filtra il dataset per mantenere solo le righe con classe <= 7\n",
    "mobyAct_filtered = mobyAct_subset[mobyAct_subset['classe'] <= 7]\n",
    "\n",
    "print(mobyAct_filtered.head())\n",
    "print(f\"\\nShape del dataset filtrato: {mobyAct_filtered.shape}\")\n",
    "\n",
    "# Stampa i valori unici della colonna con indice 6, per verifica filtraggio classi\n",
    "valori_unici = mobyAct_filtered.iloc[:, 6].unique()\n",
    "print(\"\\nValori unici nella colonna [6]:\", valori_unici)"
   ]
  },
  {
   "cell_type": "code",
   "execution_count": 46,
   "id": "dd4b11de",
   "metadata": {},
   "outputs": [],
   "source": [
    "def windowing(data, window_size):\n",
    "    data = pd.DataFrame(data)\n",
    "    X, y = [], []\n",
    "\n",
    "    for i in range(0, len(data) - window_size, window_size):\n",
    "        window = data.iloc[i:i+window_size]\n",
    "        X.append(window.values)\n",
    "        # Calcola la moda solo sull'ultima colonna\n",
    "        label_mode = window.iloc[:, -1].mode()[0]  # questo sistema mi serve quando dataset non è diviso in classi\n",
    "        y.append(label_mode)                   \n",
    "\n",
    "    return np.array(X), np.array(y)\n",
    "\n",
    "def collect_by_class(data):\n",
    "    # Raggruppa per \"classe\"\n",
    "    grouped = data.groupby('classe')\n",
    "    # Crea una lista per classi da 1 a 7 (se la classe manca, inserisce una lista vuota)\n",
    "    return [grouped.get_group(i).values.tolist() if i in grouped.groups else [] for i in range(1, 8)]\n",
    "\n",
    "def extract_catch22_features(data):\n",
    "    # data shape: (n_samples, window, n_features)\n",
    "    n_samples, window, n_channels = data.shape\n",
    "    catch22 = Catch22()\n",
    "    features = np.zeros((n_samples, 22, n_channels)) # prealloco la memoria in ram, velocizzo di molto i calcoli sfruttando \n",
    "                                                     # meglio anche le funzioni messe a disposizione da Numpy e Pandas\n",
    "\n",
    "    for i in tqdm(range(n_samples), desc=\"Estrazione CATCH22\"):\n",
    "        for ch in range(n_channels):\n",
    "            series = data[i, :, ch]\n",
    "            if np.all(series == series[0]):\n",
    "                series = series + np.random.normal(0, 1e-6, size=series.shape)\n",
    "            try:\n",
    "                feats = catch22.fit_transform([series]).flatten()\n",
    "            except Exception:\n",
    "                feats = np.full(22, np.nan)\n",
    "            features[i, :, ch] = feats\n",
    "\n",
    "    return features\n",
    "\n",
    "def extract_tsfel_features(data, cfg_kind):\n",
    "    # Carica la configurazione di default\n",
    "    cfg = tsfel.get_features_by_domain(cfg_kind) # ovvero informazioni per domini di informazione 'statistical', 'temporal', 'spectral'\n",
    "    # Calcola il numero di feature con un test rapido (primo esempio e un solo canale) (sempre per ottimizzare come per catch22)\n",
    "    # data shape: (n_samples, window, n_features)\n",
    "    n_samples, window, n_channels = data.shape\n",
    "    test_feats = tsfel.time_series_features_extractor(cfg, pd.DataFrame(data[0, :, 0]), verbose=0)\n",
    "    n_feat = test_feats.shape[1]\n",
    "    features_3d = np.zeros((n_samples, n_feat, n_channels))\n",
    "\n",
    "    for i in tqdm(range(n_samples), desc=\"Estrazione TSFEL\"+ cfg_kind):\n",
    "        for ch in range(n_channels):  # per ogni canale (6)\n",
    "            signal = pd.DataFrame(data[i, :, ch])  # un canale come serie temporale\n",
    "            feats = tsfel.time_series_features_extractor(cfg, signal, verbose=0, n_jobs=-1)\n",
    "            features_3d[i, :, ch] = feats.values.flatten()\n",
    "    \n",
    "    return features_3d"
   ]
  },
  {
   "cell_type": "code",
   "execution_count": null,
   "id": "8d1b7727",
   "metadata": {},
   "outputs": [
    {
     "name": "stdout",
     "output_type": "stream",
     "text": [
      "Shape Moby raw: (281167, 40, 7)\n",
      "Shape Moby labels: (281167,)\n"
     ]
    }
   ],
   "source": [
    "window_size = 40 # imposto una finestra a 2 secondi\n",
    "moby_raw_w40, moby_labels_w40 = windowing(mobyAct_filtered, 40)\n",
    "\n",
    "print(f\"Shape Moby raw: {moby_raw_w40.shape}\")\n",
    "print(f\"Shape Moby labels: {moby_labels_w40.shape}\")"
   ]
  },
  {
   "cell_type": "code",
   "execution_count": 22,
   "id": "d4212315",
   "metadata": {},
   "outputs": [
    {
     "name": "stdout",
     "output_type": "stream",
     "text": [
      "Shape Moby raw: (281167, 40, 6)\n"
     ]
    }
   ],
   "source": [
    "moby_raw_w40 = moby_raw_w40[:, :, :-1]\n",
    "print(f\"Shape Moby raw: {moby_raw_w40.shape}\")"
   ]
  },
  {
   "cell_type": "code",
   "execution_count": 27,
   "id": "3b470322",
   "metadata": {},
   "outputs": [
    {
     "name": "stderr",
     "output_type": "stream",
     "text": [
      "Estrazione CATCH22: 100%|██████████| 281167/281167 [17:12<00:00, 272.33it/s]"
     ]
    },
    {
     "name": "stdout",
     "output_type": "stream",
     "text": [
      "Tempo di estrazione feature catch22: 1032.47 secondi\n"
     ]
    },
    {
     "name": "stderr",
     "output_type": "stream",
     "text": [
      "\n"
     ]
    }
   ],
   "source": [
    "# Estraggo feature da catch22, non scalo ancora i dati in quanto non voglio fare estrazioni sbagliate\n",
    "startT = time.time()\n",
    "X_catch22 = extract_catch22_features(moby_raw_w40)\n",
    "print(f\"Tempo di estrazione feature catch22: {time.time() - startT:.2f} secondi\")"
   ]
  },
  {
   "cell_type": "code",
   "execution_count": 28,
   "id": "a21c7665",
   "metadata": {},
   "outputs": [
    {
     "name": "stdout",
     "output_type": "stream",
     "text": [
      "Shape X_200_catch22: (281167, 22, 6)\n"
     ]
    }
   ],
   "source": [
    "print(f\"Shape X_200_catch22: {X_catch22.shape}\")\n",
    "np.save('mobiact_catch22_40.npy', X_catch22)"
   ]
  },
  {
   "cell_type": "code",
   "execution_count": 47,
   "id": "47182da3",
   "metadata": {},
   "outputs": [
    {
     "name": "stderr",
     "output_type": "stream",
     "text": [
      "Estrazione TSFELstatistical: 100%|██████████| 281167/281167 [53:59<00:00, 86.80it/s]\n"
     ]
    },
    {
     "name": "stdout",
     "output_type": "stream",
     "text": [
      "\n",
      "Tempo di estrazione feature tesfel con statistical: 3239.13 secondi\n"
     ]
    },
    {
     "name": "stderr",
     "output_type": "stream",
     "text": [
      "Estrazione TSFELtemporal: 100%|██████████| 281167/281167 [27:00<00:00, 173.49it/s]"
     ]
    },
    {
     "name": "stdout",
     "output_type": "stream",
     "text": [
      "\n",
      "Tempo di estrazione feature tesfel con temporal: 1620.65 secondi\n"
     ]
    },
    {
     "name": "stderr",
     "output_type": "stream",
     "text": [
      "\n"
     ]
    }
   ],
   "source": [
    "startT = time.time()\n",
    "X_tsfel_stat = extract_tsfel_features(moby_raw_w40, 'statistical') # non posso fare tutti i domini per questioni di ram necessaria\n",
    "                                                                   # quindi estraggo solo da dom. statistico e temporale \n",
    "print(f\"\\nTempo di estrazione feature tesfel con statistical: {time.time() - startT:.2f} secondi\")\n",
    "startT = time.time()\n",
    "X_tsfel_temp = extract_tsfel_features(moby_raw_w40, 'temporal')\n",
    "print(f\"\\nTempo di estrazione feature tesfel con temporal: {time.time() - startT:.2f} secondi\")"
   ]
  },
  {
   "cell_type": "code",
   "execution_count": 48,
   "id": "2910bebc",
   "metadata": {},
   "outputs": [
    {
     "name": "stdout",
     "output_type": "stream",
     "text": [
      "Shape concatenata: (281167, 45, 6)\n"
     ]
    }
   ],
   "source": [
    "X_tsfel_concat = np.concatenate((X_tsfel_stat, X_tsfel_temp), axis=1)\n",
    "print(\"Shape concatenata:\", X_tsfel_concat.shape)"
   ]
  },
  {
   "cell_type": "code",
   "execution_count": 49,
   "id": "e453aa55",
   "metadata": {},
   "outputs": [],
   "source": [
    "np.save('mobiact_tsfel_40.npy', X_tsfel_concat)"
   ]
  }
 ],
 "metadata": {
  "kernelspec": {
   "display_name": "env310",
   "language": "python",
   "name": "python3"
  },
  "language_info": {
   "codemirror_mode": {
    "name": "ipython",
    "version": 3
   },
   "file_extension": ".py",
   "mimetype": "text/x-python",
   "name": "python",
   "nbconvert_exporter": "python",
   "pygments_lexer": "ipython3",
   "version": "3.10.0"
  }
 },
 "nbformat": 4,
 "nbformat_minor": 5
}
