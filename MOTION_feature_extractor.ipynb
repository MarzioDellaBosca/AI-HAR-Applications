{
 "cells": [
  {
   "cell_type": "markdown",
   "id": "1bda7b2c",
   "metadata": {},
   "source": [
    "#### Progetto di corso per APPLICAZIONI DELL'INTELLIGENZA ARTIFICIALE (AA 2024-2025)\n",
    "#### Stud: Marzio Della Bosca\n",
    "\n",
    "\n",
    "Jupyter Notebook con la funzione di estrarre le feature, tramite catch22 e tsfel, dai dati contenuti nel dataset [Motion Sense](https://paperswithcode.com/dataset/motionsense)"
   ]
  },
  {
   "cell_type": "code",
   "execution_count": 1,
   "id": "3685b476",
   "metadata": {},
   "outputs": [],
   "source": [
    "import tsfel\n",
    "from tqdm import tqdm\n",
    "import warnings\n",
    "warnings.filterwarnings(\"ignore\")\n",
    "import numpy as np\n",
    "import pandas as pd\n",
    "import time\n",
    "import os\n",
    "from aeon.transformations.collection.feature_based import Catch22\n",
    "\n",
    "# (label-classe): 0-Downstair, 1-Upstair, 2-Walking, 3-Jogging, 4-Sitting, 5-Standing"
   ]
  },
  {
   "cell_type": "code",
   "execution_count": 2,
   "id": "628a2e76",
   "metadata": {},
   "outputs": [
    {
     "name": "stdout",
     "output_type": "stream",
     "text": [
      "Shape motion dataframe: (1412865, 7)\n"
     ]
    }
   ],
   "source": [
    "motionP = pd.DataFrame(np.load('./MOTION_data/MotionSense.npy'))\n",
    "motion = motionP.copy()\n",
    "\n",
    "motion.columns = ['x_acc', 'y_acc', 'z_acc', 'x_gyro', 'y_gyro', 'z_gyro', 'activity', 'subject', 'weight', 'height', 'age', 'gender', 'trial']\n",
    "motion = motion.drop('weight', axis=1)\n",
    "motion = motion.drop('height', axis=1)\n",
    "motion = motion.drop('age', axis=1)\n",
    "motion = motion.drop('gender', axis=1)\n",
    "motion = motion.drop('subject', axis=1)\n",
    "motion = motion.drop('trial', axis=1)\n",
    "\n",
    "print(f\"Shape motion dataframe: {motion.shape}\")"
   ]
  },
  {
   "cell_type": "code",
   "execution_count": 3,
   "id": "9ed29e13",
   "metadata": {},
   "outputs": [],
   "source": [
    "def windowing(data, window_size):\n",
    "    data = pd.DataFrame(data)\n",
    "    X, y = [], []\n",
    "\n",
    "    for i in range(0, len(data) - window_size, window_size):\n",
    "        window = data.iloc[i:i+window_size]\n",
    "        X.append(window.values)\n",
    "        # Calcola la moda solo sull'ultima colonna\n",
    "        label_mode = window.iloc[:, -1].mode()[0]  # questo sistema mi serve quando dataset non è diviso in classi\n",
    "        y.append(label_mode)                   \n",
    "\n",
    "    return np.array(X), np.array(y)\n",
    "\n",
    "def extract_catch22_features(data):\n",
    "    # data shape: (n_samples, window, n_features)\n",
    "    n_samples, window, n_channels = data.shape\n",
    "    catch22 = Catch22()\n",
    "    features = np.zeros((n_samples, 22, n_channels)) # prealloco la memoria in ram, velocizzo di molto i calcoli sfruttando \n",
    "                                                     # meglio anche le funzioni messe a disposizione da Numpy e Pandas\n",
    "\n",
    "    for i in tqdm(range(n_samples), desc=\"Estrazione CATCH22\"):\n",
    "        for ch in range(n_channels):\n",
    "            series = data[i, :, ch]\n",
    "            if np.all(series == series[0]):\n",
    "                series = series + np.random.normal(0, 1e-6, size=series.shape)\n",
    "            try:\n",
    "                feats = catch22.fit_transform([series]).flatten()\n",
    "            except Exception:\n",
    "                feats = np.full(22, np.nan)\n",
    "            features[i, :, ch] = feats\n",
    "\n",
    "    return features\n",
    "\n",
    "def extract_tsfel_features(data, cfg_kind):\n",
    "    # Carica la configurazione di default\n",
    "    cfg = tsfel.get_features_by_domain(cfg_kind) # ovvero informazioni per domini 'statistical', 'temporal', 'spectral'\n",
    "    # Calcola il numero di feature con un test rapido (primo esempio e un solo canale) (sempre per ottimizzare come per catch22)\n",
    "    # data shape: (n_samples, window, n_features)\n",
    "    n_samples, window, n_channels = data.shape\n",
    "    test_feats = tsfel.time_series_features_extractor(cfg, pd.DataFrame(data[0, :, 0]), verbose=0)\n",
    "    n_feat = test_feats.shape[1]\n",
    "    features_3d = np.zeros((n_samples, n_feat, n_channels))\n",
    "\n",
    "    for i in tqdm(range(n_samples), desc=\"Estrazione TSFEL\"+ cfg_kind):\n",
    "        for ch in range(n_channels):  # per ogni canale (6)\n",
    "            signal = pd.DataFrame(data[i, :, ch])  # un canale come serie temporale\n",
    "            feats = tsfel.time_series_features_extractor(cfg, signal, verbose=0, n_jobs=-1)\n",
    "            features_3d[i, :, ch] = feats.values.flatten()\n",
    "    \n",
    "    return features_3d"
   ]
  },
  {
   "cell_type": "code",
   "execution_count": 4,
   "id": "eb4d9f64",
   "metadata": {},
   "outputs": [
    {
     "name": "stdout",
     "output_type": "stream",
     "text": [
      "Shape Moby raw: (35321, 40, 7)\n",
      "Shape Moby labels: (35321,)\n"
     ]
    }
   ],
   "source": [
    "window_size = 40 # imposto una finestra a 2 secondi, motion è campionato a 20 Hz\n",
    "motion_raw_w40, motion_labels_w40 = windowing(motion, 40)\n",
    "\n",
    "print(f\"Shape Moby raw: {motion_raw_w40.shape}\")\n",
    "print(f\"Shape Moby labels: {motion_labels_w40.shape}\")"
   ]
  },
  {
   "cell_type": "code",
   "execution_count": 5,
   "id": "13236ce7",
   "metadata": {},
   "outputs": [
    {
     "name": "stdout",
     "output_type": "stream",
     "text": [
      "Shape Moby raw: (35321, 40, 6)\n"
     ]
    }
   ],
   "source": [
    "np.save('motion_labels_40.npy', motion_labels_w40)\n",
    "motion_raw_w40 = motion_raw_w40[:, :, :-1]\n",
    "print(f\"Shape Moby raw: {motion_raw_w40.shape}\")"
   ]
  },
  {
   "cell_type": "code",
   "execution_count": 8,
   "id": "e4ef176a",
   "metadata": {},
   "outputs": [
    {
     "name": "stderr",
     "output_type": "stream",
     "text": [
      "Estrazione CATCH22: 100%|██████████| 35321/35321 [02:09<00:00, 271.82it/s]"
     ]
    },
    {
     "name": "stdout",
     "output_type": "stream",
     "text": [
      "Tempo di estrazione feature catch22: 129.95 secondi\n"
     ]
    },
    {
     "name": "stderr",
     "output_type": "stream",
     "text": [
      "\n"
     ]
    }
   ],
   "source": [
    "# Estraggo feature da catch22, non scalo ancora i dati in quanto non voglio fare estrazioni su segnali \"ammortizzati\" e quindi non reali\n",
    "startT = time.time()\n",
    "X_catch22 = extract_catch22_features(motion_raw_w40)\n",
    "print(f\"Tempo di estrazione feature catch22: {time.time() - startT:.2f} secondi\")"
   ]
  },
  {
   "cell_type": "code",
   "execution_count": null,
   "id": "ad5445e6",
   "metadata": {},
   "outputs": [],
   "source": [
    "print(f\"Shape X_catch22: {X_catch22.shape}\")\n",
    "np.save('motion_catch22_40.npy', X_catch22)"
   ]
  },
  {
   "cell_type": "code",
   "execution_count": 10,
   "id": "432fb6c0",
   "metadata": {},
   "outputs": [
    {
     "name": "stderr",
     "output_type": "stream",
     "text": [
      "Estrazione TSFELstatistical: 100%|██████████| 35321/35321 [06:39<00:00, 88.51it/s]\n"
     ]
    },
    {
     "name": "stdout",
     "output_type": "stream",
     "text": [
      "\n",
      "Tempo di estrazione feature tesfel con statistical: 399.05 secondi\n"
     ]
    },
    {
     "name": "stderr",
     "output_type": "stream",
     "text": [
      "Estrazione TSFELtemporal: 100%|██████████| 35321/35321 [03:15<00:00, 180.52it/s]"
     ]
    },
    {
     "name": "stdout",
     "output_type": "stream",
     "text": [
      "\n",
      "Tempo di estrazione feature tesfel con temporal: 195.66 secondi\n"
     ]
    },
    {
     "name": "stderr",
     "output_type": "stream",
     "text": [
      "\n"
     ]
    }
   ],
   "source": [
    "startT = time.time()\n",
    "X_tsfel_stat = extract_tsfel_features(motion_raw_w40, 'statistical') # qui riuscirei a farlo completo, ma voglio avere dati coerenti con altri dataset \n",
    "                                                                     # con cui non riesco a calcolare tutti i domini, avendo shape diverse e problemi di \n",
    "                                                                     # aggregazione\n",
    "print(f\"\\nTempo di estrazione feature tesfel con statistical: {time.time() - startT:.2f} secondi\")\n",
    "startT = time.time()\n",
    "X_tsfel_temp = extract_tsfel_features(motion_raw_w40, 'temporal')\n",
    "print(f\"\\nTempo di estrazione feature tesfel con temporal: {time.time() - startT:.2f} secondi\")"
   ]
  },
  {
   "cell_type": "code",
   "execution_count": 11,
   "id": "990693f6",
   "metadata": {},
   "outputs": [
    {
     "name": "stdout",
     "output_type": "stream",
     "text": [
      "Shape concatenata: (35321, 45, 6)\n"
     ]
    }
   ],
   "source": [
    "X_tsfel_concat = np.concatenate((X_tsfel_stat, X_tsfel_temp), axis=1)\n",
    "print(\"Shape concatenata:\", X_tsfel_concat.shape)\n",
    "np.save('motion_tsfel_40.npy', X_tsfel_concat)"
   ]
  }
 ],
 "metadata": {
  "kernelspec": {
   "display_name": "env310",
   "language": "python",
   "name": "python3"
  },
  "language_info": {
   "codemirror_mode": {
    "name": "ipython",
    "version": 3
   },
   "file_extension": ".py",
   "mimetype": "text/x-python",
   "name": "python",
   "nbconvert_exporter": "python",
   "pygments_lexer": "ipython3",
   "version": "3.10.0"
  }
 },
 "nbformat": 4,
 "nbformat_minor": 5
}
