{
 "cells": [
  {
   "cell_type": "markdown",
   "id": "b686a35f",
   "metadata": {},
   "source": [
    "#### Progetto di corso per APPLICAZIONI DELL'INTELLIGENZA ARTIFICIALE (AA 2024-2025)\n",
    "#### Stud: Marzio Della Bosca\n",
    "\n",
    "\n",
    "Jupyter Notebook con la funzione di estrarre le feature, tramite catch22 e tsfel, dai dati contenuti nel dataset [WISDM](https://archive.ics.uci.edu/dataset/507/wisdm%2Bsmartphone%2Band%2Bsmartwatch%2Bactivity%2Band%2Bbiometrics%2Bdataset)"
   ]
  },
  {
   "cell_type": "code",
   "execution_count": 1,
   "id": "7d5b4c87",
   "metadata": {},
   "outputs": [],
   "source": [
    "import tsfel\n",
    "from tqdm import tqdm\n",
    "import warnings\n",
    "warnings.filterwarnings(\"ignore\")\n",
    "import numpy as np\n",
    "import pandas as pd\n",
    "import time\n",
    "import os\n",
    "from aeon.transformations.collection.feature_based import Catch22\n",
    "import matplotlib.pyplot as plt\n",
    "import random as rnd\n",
    "\n",
    "# Walking A - Jogging B - Stairs C - Sitting D - Standing E - Typing F - Brushing Teeth G - Eating Soup H \n",
    "# Eating Chips I - Eating Pasta J - Drinking G - Watch K - Eating Sandwich L - Kicking (Soccer Ball) M \n",
    "# Playing Catch w - Tennis Ball O - Dribblinlg (Basketball) P - Writing Q - Clapping R - Folding Clothes S\n",
    "\n",
    "# di queste decido di fare inferenza per le classi:\n",
    "\n",
    "# Walking A - Jogging B - Stairs C - Sitting D - Standing E"
   ]
  },
  {
   "cell_type": "code",
   "execution_count": 25,
   "id": "5ca0960d",
   "metadata": {},
   "outputs": [],
   "source": [
    "def catch22_time_series_features_extractor(time_series):\n",
    "    catch22 = Catch22()\n",
    "    startTime = time.time()\n",
    "\n",
    "    # Numero di feature Catch22 per canale (prendo il primo segnale x_acc)\n",
    "    test_features = catch22.fit_transform([np.array(time_series.iloc[0]['x_acc'])])[0]\n",
    "    n_feat = len(test_features)\n",
    "    n_channels = 6  # x_acc, y_acc, z_acc, x_gyr, y_gyr, z_gyr\n",
    "\n",
    "    # Preallocazione array 3D (serie, canali, feature)\n",
    "    features_3d = np.zeros((len(time_series), n_channels, n_feat))\n",
    "    activities = []\n",
    "\n",
    "    channels = ['x_acc', 'y_acc', 'z_acc', 'x_gyr', 'y_gyr', 'z_gyr']\n",
    "\n",
    "    for i, (_, series) in enumerate(tqdm(time_series.iterrows(), total=len(time_series), desc=\"Estrazione Catch22\")):\n",
    "        for j, ch in enumerate(channels):\n",
    "            signal = np.array(series[ch])\n",
    "            features_3d[i, j, :] = catch22.fit_transform([signal])[0]\n",
    "        activities.append(series['activity'])\n",
    "\n",
    "    activities_array = np.array(activities)\n",
    "\n",
    "    print(f\"Tempo di esecuzione per l'estrazione delle feature catch22: {time.time() - startTime:.2f} secondi\")\n",
    "    return features_3d, activities_array\n",
    "\n",
    "def tsfel_time_series_features_extractor_dual(cfg_stat, cfg_temp, time_series):\n",
    "    timeStart = time.time()\n",
    "\n",
    "    # Determina il numero di feature per configurazione e canale usando la prima serie e primo canale\n",
    "    test_feats_stat = tsfel.time_series_features_extractor(cfg_stat, pd.DataFrame(np.array(time_series.iloc[0]['x_acc'])), verbose=0)\n",
    "    n_feat_stat = test_feats_stat.shape[1]\n",
    "\n",
    "    test_feats_temp = tsfel.time_series_features_extractor(cfg_temp, pd.DataFrame(np.array(time_series.iloc[0]['x_acc'])), verbose=0)\n",
    "    n_feat_temp = test_feats_temp.shape[1]\n",
    "\n",
    "    n_channels = 6  # x_acc, y_acc, z_acc, x_gyr, y_gyr, z_gyr\n",
    "\n",
    "    # Prealloca array per feature (stat + temp)\n",
    "    features_3d = np.zeros((len(time_series), n_channels, n_feat_stat + n_feat_temp))\n",
    "    activities = []\n",
    "\n",
    "    channels = ['x_acc', 'y_acc', 'z_acc', 'x_gyr', 'y_gyr', 'z_gyr']\n",
    "\n",
    "    for i, (_, series) in enumerate(tqdm(time_series.iterrows(), total=len(time_series), desc=\"Estrazione TSFEL\")):\n",
    "        for j, ch in enumerate(channels):\n",
    "            signal = pd.DataFrame(np.array(series[ch]))  # Serie temporale canale\n",
    "            feats_stat = tsfel.time_series_features_extractor(cfg_stat, signal, verbose=0, n_jobs=-1)\n",
    "            feats_temp = tsfel.time_series_features_extractor(cfg_temp, signal, verbose=0, n_jobs=-1)\n",
    "            # Concateno le feature stat + temp\n",
    "            combined_feats = np.concatenate((feats_stat.values.flatten(), feats_temp.values.flatten()))\n",
    "            features_3d[i, j, :] = combined_feats\n",
    "        activities.append(series['activity'])\n",
    "\n",
    "    print(f\"Tempo di esecuzione per l'estrazione delle feature tsfel 3D: {time.time() - timeStart:.2f} secondi\")\n",
    "\n",
    "    activities_array = np.array(activities)\n",
    "    return features_3d, activities_array"
   ]
  },
  {
   "cell_type": "code",
   "execution_count": 3,
   "id": "a16b592e",
   "metadata": {},
   "outputs": [
    {
     "name": "stdout",
     "output_type": "stream",
     "text": [
      "Numero esempi da accellerazioni: 4804403\n",
      "         timestamp classe     acc_x      acc_y     acc_z\n",
      "0  252207666810782      A -0.364761   8.793503  1.055084\n",
      "1  252207717164786      A -0.879730   9.768784  1.016998\n",
      "2  252207767518790      A  2.001495  11.109070  2.619156\n",
      "3  252207817872794      A  0.450623  12.651642  0.184555\n",
      "4  252207868226798      A -2.164352  13.928436 -4.422485\n"
     ]
    }
   ],
   "source": [
    "# estraggo accellerazioni (acc) e relativiti timestamp, ogni file sono 3 minuti per attività\n",
    "dfs_acc = []\n",
    "for i in range(1600, 1651):\n",
    "    filename = f\"./WISDM_data/data_{i}_accel_phone.txt\"\n",
    "    df_temp = pd.read_csv(filename, header=None, names=['user', 'classe', 'timestamp', 'acc_x', 'acc_y', 'acc_z'])\n",
    "    df_temp['acc_z'] = df_temp['acc_z'].astype(str).str.rstrip(';').astype(float)\n",
    "    df_temp = df_temp[['timestamp', 'classe', 'acc_x', 'acc_y', 'acc_z']]\n",
    "    dfs_acc.append(df_temp)\n",
    "    \n",
    "df_acc_f = pd.concat(dfs_acc, ignore_index=True)\n",
    "df_acc_f = pd.DataFrame(df_acc_f)\n",
    "print(f\"Numero esempi da accellerazioni: {len(df_acc_f)}\")\n",
    "print(f\"{df_acc_f.head()}\")"
   ]
  },
  {
   "cell_type": "code",
   "execution_count": 4,
   "id": "4ab279e5",
   "metadata": {},
   "outputs": [
    {
     "name": "stdout",
     "output_type": "stream",
     "text": [
      "Numero esempi da rotazioni: 3608635\n",
      "         timestamp classe     acc_x     acc_y     acc_z\n",
      "0  252207918580802      A -0.853210  0.297226  0.890182\n",
      "1  252207968934806      A -0.875137  0.015472  0.162231\n",
      "2  252208019288809      A -0.720169  0.388489 -0.284012\n",
      "3  252208069642813      A -0.571640  1.227402 -0.241669\n",
      "4  252208119996817      A -0.380493  1.202835 -0.213135\n"
     ]
    }
   ],
   "source": [
    "dfs_gyr = []\n",
    "for i in range(1600, 1651):\n",
    "    filename = f\"./WISDM_data/data_{i}_gyro_phone.txt\"\n",
    "    df_temp = pd.read_csv(filename, header=None, names=['user', 'classe', 'timestamp', 'acc_x', 'acc_y', 'acc_z'])\n",
    "    df_temp['acc_z'] = df_temp['acc_z'].astype(str).str.rstrip(';').astype(float)\n",
    "    df_temp = df_temp[['timestamp', 'classe', 'acc_x', 'acc_y', 'acc_z']]\n",
    "    dfs_gyr.append(df_temp)\n",
    "    \n",
    "df_gyr_f = pd.concat(dfs_gyr, ignore_index=True)\n",
    "df_gyr_f = pd.DataFrame(df_gyr_f)\n",
    "print(f\"Numero esempi da rotazioni: {len(df_gyr_f)}\")\n",
    "print(f\"{df_gyr_f.head()}\")"
   ]
  },
  {
   "cell_type": "code",
   "execution_count": null,
   "id": "97f85832",
   "metadata": {},
   "outputs": [
    {
     "name": "stdout",
     "output_type": "stream",
     "text": [
      "Differenza media tra timestamp: 29242705.213994548\n",
      "Numero campioni con gap significativo:\n",
      "558\n",
      "Differenza media tra timestamp: 21964542.549357444\n",
      "Numero campioni con gap significativo:\n",
      "667\n"
     ]
    },
    {
     "data": {
      "image/png": "[encoded data removed]",
      "text/plain": [
       "<Figure size 1000x1000 with 2 Axes>"
      ]
     },
     "metadata": {},
     "output_type": "display_data"
    }
   ],
   "source": [
    "# Anche se diverse prove mostrano sia in head che in tail che i creation time dei dati di giroscopio e accelerometro sembrano combaciare si nota un'importante mancanza di \n",
    "# campioni dal giroscopio, inoltre sono stati usati diversi cellulari. Mi baso sul fatto che ogni file sono 3 minuti di registrazioni\n",
    "#Come si evince dal plot sembra che il giroscopio abbia perso campioni rispetto al accellerometro durante tutta la durata delle registrazioni\n",
    "\n",
    "# Calcola differenza tra timestamp consecutivi per i dati del giroscopio\n",
    "time_diff_gyr = df_gyr_f['timestamp'].diff()\n",
    "\n",
    "# Calcola differenza media\n",
    "avg_diff_gyr = time_diff_gyr.mean()\n",
    "print(\"Differenza media tra timestamp:\", avg_diff_gyr)\n",
    "\n",
    "# Individua valori che superano 2 o 3 volte la differenza media\n",
    "gap_threshold = 3 * avg_diff_gyr\n",
    "gaps = df_gyr_f[time_diff_gyr > gap_threshold]\n",
    "print(\"Numero campioni con gap significativo:\")\n",
    "print(len(gaps))\n",
    "\n",
    "# Calcola la differenza tra timestamp consecutivi per i dati del giroscopio\n",
    "time_diff_acc = df_acc_f['timestamp'].diff()\n",
    "\n",
    "# Calcola la differenza media\n",
    "avg_diff_acc = time_diff_acc.mean()\n",
    "print(\"Differenza media tra timestamp:\", avg_diff_acc)\n",
    "\n",
    "gap_threshold = 3 * avg_diff_acc\n",
    "gaps = df_acc_f[time_diff_acc > gap_threshold]\n",
    "print(\"Numero campioni con gap significativo:\")\n",
    "print(len(gaps))\n",
    "\n",
    "plt.figure(figsize=(10, 10))  \n",
    "\n",
    "plt.subplot(2, 1, 1)  \n",
    "plt.plot(time_diff_acc.values, label='Differenza dei timestamp (Acc)')\n",
    "plt.axhline(avg_diff_acc, color='red', linestyle='--', label='Differenza media (Acc)')\n",
    "plt.xlabel('Indice')\n",
    "plt.ylabel('Differenza timestamp')\n",
    "plt.legend()\n",
    "plt.title('Differenza dei timestamp - Accelerazioni')\n",
    "\n",
    "\n",
    "plt.subplot(2, 1, 2)  \n",
    "plt.plot(time_diff_gyr.values, label='Differenza dei timestamp (Gyr)')\n",
    "plt.axhline(avg_diff_gyr, color='red', linestyle='--', label='Differenza media (Gyr)')\n",
    "plt.xlabel('Indice')\n",
    "plt.ylabel('Differenza timestamp')\n",
    "plt.legend()\n",
    "plt.title('Differenza dei timestamp - Giroscopio')\n",
    "\n",
    "plt.tight_layout() \n",
    "plt.show()"
   ]
  },
  {
   "cell_type": "code",
   "execution_count": 12,
   "id": "405be749",
   "metadata": {},
   "outputs": [
    {
     "name": "stdout",
     "output_type": "stream",
     "text": [
      "Numero finestre create: 82326\n",
      "(82326, 3)\n"
     ]
    }
   ],
   "source": [
    "\n",
    "# Estraggo accelerazioni (acc) e relativi timestamp, ogni file sono 3 minuti per attività e mi baso su questa informazione per calcolare vari campionamenti\n",
    "# per raggruppare, tecnica simile a quella usata in hhar, mi conviene ricaricarli da file e lavorare qui\n",
    "\n",
    "# diversi user hanno diversi device con diverse Hz di campionamento\n",
    "dfs_acc = []\n",
    "for i in range(1600, 1651):\n",
    "    filename = f\"./WISDM_data/data_{i}_accel_phone.txt\"\n",
    "    df_temp = pd.read_csv(filename, header=None, names=['user', 'classe', 'timestamp', 'x_acc', 'y_acc', 'z_acc'])\n",
    "    df_temp['z_acc'] = df_temp['z_acc'].astype(str).str.rstrip(';').astype(float)\n",
    "    df_temp = df_temp[['classe', 'x_acc', 'y_acc', 'z_acc']]\n",
    "    \n",
    "    # Raggruppo per classe\n",
    "    grouped = df_temp.groupby('classe')\n",
    "\n",
    "    for classe, group in grouped:\n",
    "        n_samples = len(group)  # Numero di campioni per la classe\n",
    "        window_size = n_samples // 90 # fC = n_samples / t -> quanti camp al sec,   se ws = 2 sec -> windSize = fc // 180s * 2s = fc // 90\n",
    "        windows = [\n",
    "            {\n",
    "                \"x_acc\": group.iloc[i:i + window_size]['x_acc'].tolist(),\n",
    "                \"y_acc\": group.iloc[i:i + window_size]['y_acc'].tolist(),\n",
    "                \"z_acc\": group.iloc[i:i + window_size]['z_acc'].tolist()\n",
    "            }\n",
    "            for i in range(0, n_samples, window_size)\n",
    "            if len(group.iloc[i:i + window_size]) == window_size\n",
    "        ]\n",
    "        dfs_acc.extend(windows)  # Aggiungo le finestre al dataset complessivo\n",
    "\n",
    "print(f\"Numero finestre create: {len(dfs_acc)}\")\n",
    "dfs_acc = pd.DataFrame(dfs_acc)\n",
    "print(dfs_acc.shape)"
   ]
  },
  {
   "cell_type": "code",
   "execution_count": 13,
   "id": "38c33acc",
   "metadata": {},
   "outputs": [
    {
     "name": "stdout",
     "output_type": "stream",
     "text": [
      "Numero finestre create: 82487\n",
      "(82487, 4)\n"
     ]
    }
   ],
   "source": [
    "# Estraggo rotazioni (gyr) e relativi timestamp, ogni file sono 3 minuti per attività\n",
    "dfs_gyr = []\n",
    "\n",
    "for i in range(1600, 1651):\n",
    "    filename = f\"./WISDM_data/data_{i}_gyro_phone.txt\"\n",
    "    df_temp = pd.read_csv(filename, header=None, names=['user', 'classe', 'timestamp', 'x_gyr', 'y_gyr', 'z_gyr'])\n",
    "    df_temp['z_gyr'] = df_temp['z_gyr'].astype(str).str.rstrip(';').astype(float)\n",
    "    df_temp = df_temp[['classe', 'x_gyr', 'y_gyr', 'z_gyr']]\n",
    "    \n",
    "    # Raggruppo per classe\n",
    "    grouped = df_temp.groupby('classe')\n",
    "\n",
    "    for classe, group in grouped:\n",
    "        n_samples = len(group)  # Numero di campioni per la classe\n",
    "        window_size = n_samples // 90       # fC = n_samples / t -> quanti camp al sec,   se ws = 2 sec -> windSize = fc // 180s * 2s = fc // 90\n",
    "        windows = [\n",
    "            {\n",
    "                \"x_gyr\": group.iloc[i:i + window_size]['x_gyr'].tolist(),\n",
    "                \"y_gyr\": group.iloc[i:i + window_size]['y_gyr'].tolist(),\n",
    "                \"z_gyr\": group.iloc[i:i + window_size]['z_gyr'].tolist(),\n",
    "                \"classe\": classe\n",
    "            }\n",
    "            for i in range(0, n_samples, window_size)\n",
    "            if len(group.iloc[i:i + window_size]) == window_size\n",
    "        ]\n",
    "        dfs_gyr.extend(windows)  # Aggiungo le finestre al dataset complessivo\n",
    "\n",
    "print(f\"Numero finestre create: {len(dfs_gyr)}\")\n",
    "dfs_gyr = pd.DataFrame(dfs_gyr)\n",
    "print(dfs_gyr.shape)"
   ]
  },
  {
   "cell_type": "code",
   "execution_count": 14,
   "id": "c237ddc2",
   "metadata": {},
   "outputs": [
    {
     "name": "stdout",
     "output_type": "stream",
     "text": [
      "Differenza di esempi a favore di Gyroscopio: 161\n"
     ]
    }
   ],
   "source": [
    "print(f\"Differenza di esempi a favore di Gyroscopio: {len(dfs_gyr) - len(dfs_acc)}\")\n"
   ]
  },
  {
   "cell_type": "code",
   "execution_count": 15,
   "id": "2a441684",
   "metadata": {},
   "outputs": [
    {
     "name": "stdout",
     "output_type": "stream",
     "text": [
      "Differenza di esempi a favore di Gyroscopio: 0\n"
     ]
    }
   ],
   "source": [
    "# Adesso tolgo 161 finestre di gyr a scelta random in modo da far combaciare le size (introducendo caoticità)\n",
    "rnd.seed(42)\n",
    "\n",
    "# Genera una lista di indici casuali da eliminare\n",
    "indices_to_remove = rnd.sample(range(len(dfs_gyr)), 161)\n",
    "\n",
    "\n",
    "dfs_gyr = dfs_gyr.drop(indices_to_remove).reset_index(drop=True)\n",
    "print(f\"Differenza di esempi a favore di Gyroscopio: {len(dfs_gyr) - len(dfs_acc)}\")"
   ]
  },
  {
   "cell_type": "code",
   "execution_count": 19,
   "id": "595189e4",
   "metadata": {},
   "outputs": [
    {
     "name": "stdout",
     "output_type": "stream",
     "text": [
      "Classe del primo elemento: A\n",
      "\n",
      " Shape DataFrame combinato:(22857, 8)\n",
      "Primi 5 esempi del DataFrame combinato:\n",
      "                                               x_acc  \\\n",
      "0  [-0.36476135, -0.8797302, 2.0014954, 0.4506225...   \n",
      "1  [-0.3136902, 0.79541016, -0.29496765, -1.16815...   \n",
      "2  [-1.6379852, 1.4026489, -0.12463379, -0.468963...   \n",
      "3  [-3.532257, -0.7037964, 0.23147583, -0.6518402...   \n",
      "4  [-3.736557, -1.2045288, -0.7453308, -0.8007812...   \n",
      "\n",
      "                                               y_acc  \\\n",
      "0  [8.793503, 9.768784, 11.10907, 12.651642, 13.9...   \n",
      "1  [5.471634, 5.9292755, 8.266602, 11.531845, 11....   \n",
      "2  [4.747345, 6.004471, 8.899155, 11.344849, 10.8...   \n",
      "3  [6.4562836, 3.9090424, 7.4364166, 9.172073, 10...   \n",
      "4  [8.603821, 5.019562, 5.354721, 8.1800995, 9.82...   \n",
      "\n",
      "                                               z_acc  \\\n",
      "0  [1.0550842, 1.0169983, 2.619156, 0.18455505, -...   \n",
      "1  [-0.12658691, -0.13972473, 0.50408936, 2.76510...   \n",
      "2  [0.018661499, 0.05848694, 0.6542053, 1.8815918...   \n",
      "3  [0.3705902, -0.17088318, -0.12234497, -0.05993...   \n",
      "4  [0.5336151, 0.20254517, -0.39645386, 0.1930084...   \n",
      "\n",
      "                                               x_gyr  \\\n",
      "0  [-0.85321045, -0.8751373, -0.72016907, -0.5716...   \n",
      "1  [0.8297119, -0.045455933, -1.0971985, -0.93493...   \n",
      "2  [0.7142639, -0.49917603, -0.7549591, -0.936737...   \n",
      "3  [0.57437134, 0.3917389, -0.9416199, -0.880661,...   \n",
      "4  [0.23535156, 0.86628723, 0.21925354, -0.845153...   \n",
      "\n",
      "                                               y_gyr  \\\n",
      "0  [0.29722595, 0.015472412, 0.38848877, 1.227401...   \n",
      "1  [0.45942688, 0.5688324, 0.3534546, 0.39465332,...   \n",
      "2  [0.60150146, 0.5481262, 0.47042847, 0.27337646...   \n",
      "3  [-0.5440216, 0.051239014, 0.11248779, 0.030090...   \n",
      "4  [-0.2579651, 0.3829956, 0.5121765, -0.07028198...   \n",
      "\n",
      "                                               z_gyr classe activity  \n",
      "0  [0.8901825, 0.16223145, -0.28401184, -0.241668...      A        A  \n",
      "1  [0.40005493, 0.72613525, 0.6892853, -0.3226165...      A        A  \n",
      "2  [0.5118561, 0.8547516, 0.6725464, -0.26242065,...      A        A  \n",
      "3  [0.3655548, 0.5648651, 0.8161011, 0.34744263, ...      A        A  \n",
      "4  [0.22398376, 0.26008606, 0.5272217, 0.9243164,...      A        A  \n"
     ]
    }
   ],
   "source": [
    "dfs_tot = dfs_acc\n",
    "\n",
    "# Aggiungo le colonne gyr_x, gyr_y e gyr_z a dfs_acc\n",
    "dfs_tot['x_gyr'] = dfs_gyr['x_gyr']\n",
    "dfs_tot['y_gyr'] = dfs_gyr['y_gyr']\n",
    "dfs_tot['z_gyr'] = dfs_gyr['z_gyr']\n",
    "dfs_tot['activity'] = dfs_gyr['classe']\n",
    "\n",
    "wisdm = dfs_tot[dfs_tot['classe'].isin(['A', 'B', 'C', 'D', 'E'])]\n",
    "\n",
    "print(f\"Classe del primo elemento: {wisdm.iloc[0]['classe']}\")\n",
    "print(f\"\\n Shape DataFrame combinato:{wisdm.shape}\")\n",
    "print(f\"Primi 5 esempi del DataFrame combinato:\\n{wisdm.head()}\")"
   ]
  },
  {
   "cell_type": "code",
   "execution_count": 20,
   "id": "44da4bb5",
   "metadata": {},
   "outputs": [
    {
     "name": "stdout",
     "output_type": "stream",
     "text": [
      "Index(['x_acc', 'y_acc', 'z_acc', 'x_gyr', 'y_gyr', 'z_gyr', 'classe',\n",
      "       'activity'],\n",
      "      dtype='object')\n",
      "Classi uniche: ['A' 'B' 'C' 'D' 'E']\n"
     ]
    }
   ],
   "source": [
    "print(dfs_tot.columns)\n",
    "print(\"Classi uniche:\", wisdm['classe'].unique())\n",
    "# adesso tolgo la"
   ]
  },
  {
   "cell_type": "code",
   "execution_count": null,
   "id": "6488c67c",
   "metadata": {},
   "outputs": [
    {
     "name": "stderr",
     "output_type": "stream",
     "text": [
      "Estrazione Catch22: 100%|██████████| 22857/22857 [01:26<00:00, 265.13it/s]"
     ]
    },
    {
     "name": "stdout",
     "output_type": "stream",
     "text": [
      "Tempo di esecuzione per l'estrazione delle feature catch22: 86.23 secondi\n"
     ]
    },
    {
     "name": "stderr",
     "output_type": "stream",
     "text": [
      "\n"
     ]
    }
   ],
   "source": [
    "# Estraggo le feature Catch22\n",
    "X_catch22, y_catch22 = catch22_time_series_features_extractor(wisdm)"
   ]
  },
  {
   "cell_type": "code",
   "execution_count": 24,
   "id": "e61c276d",
   "metadata": {},
   "outputs": [
    {
     "name": "stdout",
     "output_type": "stream",
     "text": [
      "Shape delle feature Catch22: (22857, 6, 22)\n",
      "Shape delle etichette Catch22: (22857,)\n"
     ]
    }
   ],
   "source": [
    "print(f\"Shape delle feature Catch22: {X_catch22.shape}\")\n",
    "print(f\"Shape delle etichette Catch22: {y_catch22.shape}\")\n",
    "\n",
    "np.save(\"wisdm_catch22.npy\", X_catch22)"
   ]
  },
  {
   "cell_type": "code",
   "execution_count": 26,
   "id": "a085888d",
   "metadata": {},
   "outputs": [
    {
     "name": "stderr",
     "output_type": "stream",
     "text": [
      "Estrazione TSFEL: 100%|██████████| 22857/22857 [06:22<00:00, 59.72it/s]"
     ]
    },
    {
     "name": "stdout",
     "output_type": "stream",
     "text": [
      "Tempo di esecuzione per l'estrazione delle feature tsfel 3D: 382.75 secondi\n"
     ]
    },
    {
     "name": "stderr",
     "output_type": "stream",
     "text": [
      "\n"
     ]
    }
   ],
   "source": [
    "# Estraggo le feature TSFEL\n",
    "cfg_stat = tsfel.get_features_by_domain('statistical')\n",
    "cfg_temp = tsfel.get_features_by_domain('temporal')\n",
    "\n",
    "X_tsfel, y_tsfel = tsfel_time_series_features_extractor_dual(cfg_stat, cfg_temp, wisdm)"
   ]
  },
  {
   "cell_type": "code",
   "execution_count": 27,
   "id": "abffcba9",
   "metadata": {},
   "outputs": [
    {
     "name": "stdout",
     "output_type": "stream",
     "text": [
      "Shape delle feature TSFEL: (22857, 6, 45)\n",
      "Shape delle etichette TSFEL: (22857,)\n"
     ]
    }
   ],
   "source": [
    "print(f\"Shape delle feature TSFEL: {X_tsfel.shape}\")\n",
    "print(f\"Shape delle etichette TSFEL: {y_tsfel.shape}\")\n",
    "\n",
    "np.save(\"wisdm_tsfel.npy\", X_tsfel)\n",
    "\n",
    "# Salvo le etichette\n",
    "np.save(\"wisdm_labels.npy\", y_tsfel)"
   ]
  }
 ],
 "metadata": {
  "kernelspec": {
   "display_name": "env310",
   "language": "python",
   "name": "python3"
  },
  "language_info": {
   "codemirror_mode": {
    "name": "ipython",
    "version": 3
   },
   "file_extension": ".py",
   "mimetype": "text/x-python",
   "name": "python",
   "nbconvert_exporter": "python",
   "pygments_lexer": "ipython3",
   "version": "3.10.0"
  }
 },
 "nbformat": 4,
 "nbformat_minor": 5
}
